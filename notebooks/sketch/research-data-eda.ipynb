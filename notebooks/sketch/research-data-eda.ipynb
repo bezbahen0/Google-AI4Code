{
 "cells": [
  {
   "cell_type": "markdown",
   "id": "24ffc0fe",
   "metadata": {},
   "source": [
    "# AI4Code: EDA\n",
    "\n",
    "Questions:\n",
    "\n",
    "- How many cells on average per notebook?\n",
    "- What is the breakdown of markdown vs code cells.\n",
    "- How many notebooks share the same ancestor_id\n",
    "- What languages are in the markdown cells (If there are several languages, then select the one that prevails in the markdown cells)\n",
    "    - the same as in the previous steps but with a breakdown by language\n",
    "- what characters are in the markdown cells (looking for what is garbage and can be purged from the data)"
   ]
  },
  {
   "cell_type": "markdown",
   "id": "1db068c0",
   "metadata": {},
   "source": [
    "## Used notebooks:\n",
    "- https://www.kaggle.com/code/robikscube/google-ai4code-data-to-parquet-twitch-stream-eda\n",
    "- https://www.kaggle.com/code/odins0n/ai4code-detailed-eda\n",
    "- https://www.kaggle.com/code/ilyaryabov/fasttext-public-model-teaching/notebook"
   ]
  },
  {
   "cell_type": "markdown",
   "id": "8905b844",
   "metadata": {},
   "source": []
  },
  {
   "cell_type": "code",
   "execution_count": 1,
   "id": "d1fd7aa4",
   "metadata": {},
   "outputs": [],
   "source": [
    "import os\n",
    "\n",
    "import numpy as np \n",
    "import pandas as pd\n",
    "import matplotlib.pyplot as plt\n",
    "from tqdm import tqdm"
   ]
  },
  {
   "cell_type": "code",
   "execution_count": 2,
   "id": "0ab3335c",
   "metadata": {},
   "outputs": [],
   "source": [
    "RAW_DATA_PATH = '../../data/raw'\n",
    "PROCESSING_DATA_PATH = '../../data/preprocessed/'"
   ]
  },
  {
   "cell_type": "code",
   "execution_count": 3,
   "id": "63699a9b",
   "metadata": {},
   "outputs": [
    {
     "name": "stdout",
     "output_type": "stream",
     "text": [
      "CPU times: user 7.59 s, sys: 3.53 s, total: 11.1 s\n",
      "Wall time: 16.1 s\n"
     ]
    },
    {
     "data": {
      "text/html": [
       "<div>\n",
       "<style scoped>\n",
       "    .dataframe tbody tr th:only-of-type {\n",
       "        vertical-align: middle;\n",
       "    }\n",
       "\n",
       "    .dataframe tbody tr th {\n",
       "        vertical-align: top;\n",
       "    }\n",
       "\n",
       "    .dataframe thead th {\n",
       "        text-align: right;\n",
       "    }\n",
       "</style>\n",
       "<table border=\"1\" class=\"dataframe\">\n",
       "  <thead>\n",
       "    <tr style=\"text-align: right;\">\n",
       "      <th></th>\n",
       "      <th>id</th>\n",
       "      <th>cell</th>\n",
       "      <th>cell_type</th>\n",
       "      <th>source</th>\n",
       "      <th>order</th>\n",
       "      <th>ancestor_id</th>\n",
       "      <th>parent_id</th>\n",
       "    </tr>\n",
       "  </thead>\n",
       "  <tbody>\n",
       "    <tr>\n",
       "      <th>0</th>\n",
       "      <td>00001756c60be8</td>\n",
       "      <td>1862f0a6</td>\n",
       "      <td>code</td>\n",
       "      <td># This Python 3 environment comes with many he...</td>\n",
       "      <td>0</td>\n",
       "      <td>945aea18</td>\n",
       "      <td>None</td>\n",
       "    </tr>\n",
       "    <tr>\n",
       "      <th>1</th>\n",
       "      <td>00001756c60be8</td>\n",
       "      <td>448eb224</td>\n",
       "      <td>markdown</td>\n",
       "      <td>**Импортируем необходимые для работы функции и...</td>\n",
       "      <td>1</td>\n",
       "      <td>945aea18</td>\n",
       "      <td>None</td>\n",
       "    </tr>\n",
       "    <tr>\n",
       "      <th>2</th>\n",
       "      <td>00001756c60be8</td>\n",
       "      <td>2a9e43d6</td>\n",
       "      <td>code</td>\n",
       "      <td>import numpy as np\\nimport pandas as pd\\nimpor...</td>\n",
       "      <td>2</td>\n",
       "      <td>945aea18</td>\n",
       "      <td>None</td>\n",
       "    </tr>\n",
       "    <tr>\n",
       "      <th>3</th>\n",
       "      <td>00001756c60be8</td>\n",
       "      <td>7e2f170a</td>\n",
       "      <td>markdown</td>\n",
       "      <td>**Подключаем предупреждения**</td>\n",
       "      <td>3</td>\n",
       "      <td>945aea18</td>\n",
       "      <td>None</td>\n",
       "    </tr>\n",
       "    <tr>\n",
       "      <th>4</th>\n",
       "      <td>00001756c60be8</td>\n",
       "      <td>038b763d</td>\n",
       "      <td>code</td>\n",
       "      <td>import warnings\\nwarnings.filterwarnings('igno...</td>\n",
       "      <td>4</td>\n",
       "      <td>945aea18</td>\n",
       "      <td>None</td>\n",
       "    </tr>\n",
       "  </tbody>\n",
       "</table>\n",
       "</div>"
      ],
      "text/plain": [
       "               id      cell cell_type  \\\n",
       "0  00001756c60be8  1862f0a6      code   \n",
       "1  00001756c60be8  448eb224  markdown   \n",
       "2  00001756c60be8  2a9e43d6      code   \n",
       "3  00001756c60be8  7e2f170a  markdown   \n",
       "4  00001756c60be8  038b763d      code   \n",
       "\n",
       "                                              source  order ancestor_id  \\\n",
       "0  # This Python 3 environment comes with many he...      0    945aea18   \n",
       "1  **Импортируем необходимые для работы функции и...      1    945aea18   \n",
       "2  import numpy as np\\nimport pandas as pd\\nimpor...      2    945aea18   \n",
       "3                      **Подключаем предупреждения**      3    945aea18   \n",
       "4  import warnings\\nwarnings.filterwarnings('igno...      4    945aea18   \n",
       "\n",
       "  parent_id  \n",
       "0      None  \n",
       "1      None  \n",
       "2      None  \n",
       "3      None  \n",
       "4      None  "
      ]
     },
     "execution_count": 3,
     "metadata": {},
     "output_type": "execute_result"
    }
   ],
   "source": [
    "%%time\n",
    "train = pd.read_parquet(os.path.join(PROCESSING_DATA_PATH, 'rob_mulla_parquet/train_all.parquet'))\n",
    "train = train.astype({'cell_type': 'category', 'source': 'str'}, errors='raise') \n",
    "\n",
    "train.head()"
   ]
  },
  {
   "cell_type": "markdown",
   "id": "bc26b1aa",
   "metadata": {},
   "source": [
    "## Surface analysis"
   ]
  },
  {
   "cell_type": "markdown",
   "id": "872ceef4",
   "metadata": {},
   "source": [
    "### Averate cell by type per notebook"
   ]
  },
  {
   "cell_type": "code",
   "execution_count": 4,
   "id": "04325230",
   "metadata": {},
   "outputs": [
    {
     "name": "stdout",
     "output_type": "stream",
     "text": [
      "code        4204582\n",
      "markdown    2166064\n",
      "Name: cell_type, dtype: int64\n"
     ]
    },
    {
     "data": {
      "image/png": "[encoded data removed]",
      "text/plain": [
       "<Figure size 576x360 with 1 Axes>"
      ]
     },
     "metadata": {
      "needs_background": "light"
     },
     "output_type": "display_data"
    }
   ],
   "source": [
    "train[\"cell_type\"].value_counts().plot(\n",
    "    kind=\"barh\",\n",
    "    title=\"Code vs. Markdown Cells in Total\",\n",
    "    #color=my_pal[2],\n",
    "    figsize=(8, 5)\n",
    ")\n",
    "print(train[\"cell_type\"].value_counts())\n",
    "plt.show()\n"
   ]
  },
  {
   "cell_type": "code",
   "execution_count": 5,
   "id": "387044e9",
   "metadata": {},
   "outputs": [
    {
     "name": "stdout",
     "output_type": "stream",
     "text": [
      "The median number of cells per notebook is: 35.0\n"
     ]
    },
    {
     "data": {
      "image/png": "[encoded data removed]",
      "text/plain": [
       "<Figure size 432x288 with 1 Axes>"
      ]
     },
     "metadata": {
      "needs_background": "light"
     },
     "output_type": "display_data"
    }
   ],
   "source": [
    "# Number of Cells per id\n",
    "train[\"id\"].value_counts().plot(\n",
    "    kind=\"hist\", bins=50, title=\"Distribution of # of Cells per Notebook\"\n",
    ")\n",
    "print(\"The median number of cells per notebook is:\", train[\"id\"].value_counts().median())\n",
    "plt.show()\n"
   ]
  },
  {
   "cell_type": "code",
   "execution_count": 6,
   "id": "a723a36c",
   "metadata": {},
   "outputs": [
    {
     "data": {
      "image/png": "[encoded data removed]",
      "text/plain": [
       "<Figure size 576x720 with 1 Axes>"
      ]
     },
     "metadata": {
      "needs_background": "light"
     },
     "output_type": "display_data"
    }
   ],
   "source": [
    "train[\"id\"].value_counts().head(50).sort_values().plot(\n",
    "    kind=\"barh\", figsize=(8, 10), title=\"Top 50 Notebooks by # of Cells\"\n",
    ")\n",
    "plt.show()\n"
   ]
  },
  {
   "cell_type": "markdown",
   "id": "6794aa2c",
   "metadata": {},
   "source": [
    "### What's the most forked notebook"
   ]
  },
  {
   "cell_type": "code",
   "execution_count": 7,
   "id": "f61c9905",
   "metadata": {},
   "outputs": [
    {
     "data": {
      "text/plain": [
       "<AxesSubplot:title={'center':'Top Forked Notebooks'}>"
      ]
     },
     "execution_count": 7,
     "metadata": {},
     "output_type": "execute_result"
    },
    {
     "data": {
      "image/png": "[encoded data removed]",
      "text/plain": [
       "<Figure size 576x576 with 1 Axes>"
      ]
     },
     "metadata": {
      "needs_background": "light"
     },
     "output_type": "display_data"
    }
   ],
   "source": [
    "# Find top Id\n",
    "# Find the most \"parent\"\n",
    "train[\"parent_id\"].value_counts().head(20).sort_values().plot(\n",
    "    kind=\"barh\", figsize=(8, 8), title=\"Top Forked Notebooks\"\n",
    ")\n"
   ]
  },
  {
   "cell_type": "markdown",
   "id": "fe4e0d71",
   "metadata": {},
   "source": [
    "## Deeper analysis"
   ]
  },
  {
   "cell_type": "markdown",
   "id": "7d86d304",
   "metadata": {},
   "source": [
    "### Code cells Length distribution"
   ]
  },
  {
   "cell_type": "code",
   "execution_count": 8,
   "id": "2059360d",
   "metadata": {},
   "outputs": [
    {
     "name": "stdout",
     "output_type": "stream",
     "text": [
      "\u001b[94m Min Code Cells Length =  1\n",
      "\u001b[94m Mean Code cells Length =  25.24\n",
      "\u001b[94m Max Code Cells Length =  74589\n",
      "\u001b[94m Median Code cells Length =  10.0\n",
      "\u001b[94m Std Code cells Length =  100.65\n"
     ]
    }
   ],
   "source": [
    "code_df = train[train.cell_type == \"code\"].source\n",
    "code_lengths = np.array([len(df.split()) for df in code_df])\n",
    "print(f'\\033[94m Min Code Cells Length = ', min(code_lengths))\n",
    "print(f'\\033[94m Mean Code cells Length = ', round(np.mean(code_lengths),2))\n",
    "print(f'\\033[94m Max Code Cells Length = ', max(code_lengths))\n",
    "print(f'\\033[94m Median Code cells Length = ', round(np.median(code_lengths),2))\n",
    "print(f'\\033[94m Std Code cells Length = ', round(np.std(code_lengths),2))"
   ]
  },
  {
   "cell_type": "code",
   "execution_count": 9,
   "id": "13e1b7b4",
   "metadata": {},
   "outputs": [
    {
     "data": {
      "text/plain": [
       "Text(0.5, 0, 'Lenght of Code Cells')"
      ]
     },
     "execution_count": 9,
     "metadata": {},
     "output_type": "execute_result"
    },
    {
     "data": {
      "image/png": "[encoded data removed]",
      "text/plain": [
       "<Figure size 1296x432 with 1 Axes>"
      ]
     },
     "metadata": {
      "needs_background": "light"
     },
     "output_type": "display_data"
    }
   ],
   "source": [
    "fig,ax= plt.subplots(figsize= (18,6))\n",
    "plt.boxplot(code_lengths, vert = False)\n",
    "plt.xlabel(\"Lenght of Code Cells\")"
   ]
  },
  {
   "cell_type": "markdown",
   "id": "b059b84f",
   "metadata": {},
   "source": [
    "### Markdown Cells Length Distribution"
   ]
  },
  {
   "cell_type": "code",
   "execution_count": 10,
   "id": "cbf9e687",
   "metadata": {},
   "outputs": [
    {
     "name": "stdout",
     "output_type": "stream",
     "text": [
      "\u001b[94m Min Markdown Cells Length =  1\n",
      "\u001b[94m Mean Markdown cells Length =  29.42\n",
      "\u001b[94m Max Markdown Cells Length =  38939\n",
      "\u001b[94m Median Code cells Length =  11.0\n",
      "\u001b[94m Std Code cells Length =  70.39\n"
     ]
    }
   ],
   "source": [
    "mkd_df = train[train.cell_type == \"markdown\"].source\n",
    "mkd_lengths = np.array([len(df.split()) for df in mkd_df])\n",
    "print(f'\\033[94m Min Markdown Cells Length = ', min(mkd_lengths))\n",
    "print(f'\\033[94m Mean Markdown cells Length = ', round(np.mean(mkd_lengths),2))\n",
    "print(f'\\033[94m Max Markdown Cells Length = ', max(mkd_lengths))\n",
    "print(f'\\033[94m Median Code cells Length = ', round(np.median(mkd_lengths),2))\n",
    "print(f'\\033[94m Std Code cells Length = ', round(np.std(mkd_lengths),2))"
   ]
  },
  {
   "cell_type": "code",
   "execution_count": 11,
   "id": "b5b7bcda",
   "metadata": {},
   "outputs": [
    {
     "data": {
      "text/plain": [
       "Text(0.5, 0, 'Lenght of Markdown Cells')"
      ]
     },
     "execution_count": 11,
     "metadata": {},
     "output_type": "execute_result"
    },
    {
     "data": {
      "image/png": "[encoded data removed]",
      "text/plain": [
       "<Figure size 1296x432 with 1 Axes>"
      ]
     },
     "metadata": {
      "needs_background": "light"
     },
     "output_type": "display_data"
    }
   ],
   "source": [
    "fig,ax= plt.subplots(figsize= (18,6))\n",
    "plt.boxplot(mkd_lengths, vert = False)\n",
    "plt.xlabel(\"Lenght of Markdown Cells\")"
   ]
  },
  {
   "cell_type": "markdown",
   "id": "bbc5ff9f",
   "metadata": {},
   "source": [
    "### Notebooks cells count"
   ]
  },
  {
   "cell_type": "code",
   "execution_count": 12,
   "id": "8cd76575",
   "metadata": {},
   "outputs": [
    {
     "data": {
      "text/html": [
       "<div>\n",
       "<style scoped>\n",
       "    .dataframe tbody tr th:only-of-type {\n",
       "        vertical-align: middle;\n",
       "    }\n",
       "\n",
       "    .dataframe tbody tr th {\n",
       "        vertical-align: top;\n",
       "    }\n",
       "\n",
       "    .dataframe thead th {\n",
       "        text-align: right;\n",
       "    }\n",
       "</style>\n",
       "<table border=\"1\" class=\"dataframe\">\n",
       "  <thead>\n",
       "    <tr style=\"text-align: right;\">\n",
       "      <th>cell_type</th>\n",
       "      <th>code</th>\n",
       "      <th>markdown</th>\n",
       "    </tr>\n",
       "    <tr>\n",
       "      <th>id</th>\n",
       "      <th></th>\n",
       "      <th></th>\n",
       "    </tr>\n",
       "  </thead>\n",
       "  <tbody>\n",
       "    <tr>\n",
       "      <th>00001756c60be8</th>\n",
       "      <td>30</td>\n",
       "      <td>28</td>\n",
       "    </tr>\n",
       "    <tr>\n",
       "      <th>00015c83e2717b</th>\n",
       "      <td>72</td>\n",
       "      <td>21</td>\n",
       "    </tr>\n",
       "    <tr>\n",
       "      <th>0001bdd4021779</th>\n",
       "      <td>11</td>\n",
       "      <td>2</td>\n",
       "    </tr>\n",
       "    <tr>\n",
       "      <th>0001daf4c2c76d</th>\n",
       "      <td>178</td>\n",
       "      <td>51</td>\n",
       "    </tr>\n",
       "    <tr>\n",
       "      <th>0002115f48f982</th>\n",
       "      <td>8</td>\n",
       "      <td>1</td>\n",
       "    </tr>\n",
       "  </tbody>\n",
       "</table>\n",
       "</div>"
      ],
      "text/plain": [
       "cell_type       code  markdown\n",
       "id                            \n",
       "00001756c60be8    30        28\n",
       "00015c83e2717b    72        21\n",
       "0001bdd4021779    11         2\n",
       "0001daf4c2c76d   178        51\n",
       "0002115f48f982     8         1"
      ]
     },
     "execution_count": 12,
     "metadata": {},
     "output_type": "execute_result"
    }
   ],
   "source": [
    "# Calculate cells per notebook\n",
    "counts_df = train[['id', 'cell', 'cell_type']].groupby(['id','cell_type']).count().reset_index()\n",
    "counts_df = counts_df.groupby(['id', 'cell_type'])['cell'].aggregate('first').unstack()\n",
    "counts_df.head()"
   ]
  },
  {
   "cell_type": "code",
   "execution_count": 13,
   "id": "696e00cf",
   "metadata": {},
   "outputs": [
    {
     "data": {
      "text/html": [
       "<div>\n",
       "<style scoped>\n",
       "    .dataframe tbody tr th:only-of-type {\n",
       "        vertical-align: middle;\n",
       "    }\n",
       "\n",
       "    .dataframe tbody tr th {\n",
       "        vertical-align: top;\n",
       "    }\n",
       "\n",
       "    .dataframe thead th {\n",
       "        text-align: right;\n",
       "    }\n",
       "</style>\n",
       "<table border=\"1\" class=\"dataframe\">\n",
       "  <thead>\n",
       "    <tr style=\"text-align: right;\">\n",
       "      <th>cell_type</th>\n",
       "      <th>code</th>\n",
       "      <th>markdown</th>\n",
       "      <th>total</th>\n",
       "    </tr>\n",
       "  </thead>\n",
       "  <tbody>\n",
       "    <tr>\n",
       "      <th>count</th>\n",
       "      <td>139256.000000</td>\n",
       "      <td>139256.000000</td>\n",
       "      <td>139256.000000</td>\n",
       "    </tr>\n",
       "    <tr>\n",
       "      <th>mean</th>\n",
       "      <td>30.193184</td>\n",
       "      <td>15.554547</td>\n",
       "      <td>45.747731</td>\n",
       "    </tr>\n",
       "    <tr>\n",
       "      <th>std</th>\n",
       "      <td>26.957452</td>\n",
       "      <td>17.223756</td>\n",
       "      <td>40.085773</td>\n",
       "    </tr>\n",
       "    <tr>\n",
       "      <th>min</th>\n",
       "      <td>1.000000</td>\n",
       "      <td>1.000000</td>\n",
       "      <td>2.000000</td>\n",
       "    </tr>\n",
       "    <tr>\n",
       "      <th>25%</th>\n",
       "      <td>14.000000</td>\n",
       "      <td>5.000000</td>\n",
       "      <td>21.000000</td>\n",
       "    </tr>\n",
       "    <tr>\n",
       "      <th>50%</th>\n",
       "      <td>23.000000</td>\n",
       "      <td>11.000000</td>\n",
       "      <td>35.000000</td>\n",
       "    </tr>\n",
       "    <tr>\n",
       "      <th>75%</th>\n",
       "      <td>38.000000</td>\n",
       "      <td>20.000000</td>\n",
       "      <td>57.000000</td>\n",
       "    </tr>\n",
       "    <tr>\n",
       "      <th>max</th>\n",
       "      <td>809.000000</td>\n",
       "      <td>537.000000</td>\n",
       "      <td>1005.000000</td>\n",
       "    </tr>\n",
       "  </tbody>\n",
       "</table>\n",
       "</div>"
      ],
      "text/plain": [
       "cell_type           code       markdown          total\n",
       "count      139256.000000  139256.000000  139256.000000\n",
       "mean           30.193184      15.554547      45.747731\n",
       "std            26.957452      17.223756      40.085773\n",
       "min             1.000000       1.000000       2.000000\n",
       "25%            14.000000       5.000000      21.000000\n",
       "50%            23.000000      11.000000      35.000000\n",
       "75%            38.000000      20.000000      57.000000\n",
       "max           809.000000     537.000000    1005.000000"
      ]
     },
     "execution_count": 13,
     "metadata": {},
     "output_type": "execute_result"
    }
   ],
   "source": [
    "counts_df[\"total\"] = counts_df[\"code\"] + counts_df[\"markdown\"]\n",
    "counts_df.describe()"
   ]
  },
  {
   "cell_type": "code",
   "execution_count": 14,
   "id": "7a4975e2",
   "metadata": {},
   "outputs": [
    {
     "data": {
      "text/plain": [
       "cell_type\n",
       "code        23.0\n",
       "markdown    11.0\n",
       "total       35.0\n",
       "dtype: float64"
      ]
     },
     "execution_count": 14,
     "metadata": {},
     "output_type": "execute_result"
    }
   ],
   "source": [
    "counts_df.median()\n"
   ]
  },
  {
   "cell_type": "code",
   "execution_count": 15,
   "id": "361e006a",
   "metadata": {},
   "outputs": [
    {
     "name": "stdout",
     "output_type": "stream",
     "text": [
      "\u001b[94mTotal notebook with either 1 code cell or 1 markdown cell =  11426\n",
      "\u001b[94mTotal notebook with both 1 code cell and 1 markdown cell =  392\n",
      "\u001b[94mNotebook counts with only 1 code cell  =  737\n",
      "\u001b[94mNotebook counts with only 1 markdown cell  =  11081\n"
     ]
    }
   ],
   "source": [
    "either_one = counts_df[(counts_df[\"markdown\"] == 1) | (counts_df[\"code\"] == 1 )] \n",
    "both_one = counts_df[(counts_df[\"markdown\"] == 1) & (counts_df[\"code\"] == 1 )] \n",
    "code_count_one = counts_df[counts_df[\"code\"] == 1 ]\n",
    "markdown_count_one  = counts_df[counts_df[\"markdown\"] == 1 ]\n",
    "\n",
    "print(f\"\\033[94mTotal notebook with either 1 code cell or 1 markdown cell = \", len(either_one))\n",
    "print(f\"\\033[94mTotal notebook with both 1 code cell and 1 markdown cell = \", len(both_one ))\n",
    "print(f\"\\033[94mNotebook counts with only 1 code cell  = \" ,len(code_count_one))\n",
    "print(f\"\\033[94mNotebook counts with only 1 markdown cell  = \" ,len(markdown_count_one))"
   ]
  },
  {
   "cell_type": "markdown",
   "id": "0c07f0b5",
   "metadata": {},
   "source": [
    "### Cell Language Analysis"
   ]
  },
  {
   "cell_type": "markdown",
   "id": "31057bc5",
   "metadata": {},
   "source": [
    "#### Process dataframe"
   ]
  },
  {
   "cell_type": "code",
   "execution_count": 16,
   "id": "419d2a4c",
   "metadata": {},
   "outputs": [],
   "source": [
    "import re"
   ]
  },
  {
   "cell_type": "code",
   "execution_count": 17,
   "id": "2ac21ceb",
   "metadata": {},
   "outputs": [
    {
     "name": "stdout",
     "output_type": "stream",
     "text": [
      "<class 'pandas.core.frame.DataFrame'>\n",
      "RangeIndex: 139256 entries, 0 to 139255\n",
      "Data columns (total 2 columns):\n",
      " #   Column         Non-Null Count   Dtype \n",
      "---  ------         --------------   ----- \n",
      " 0   notebook_id    139256 non-null  object\n",
      " 1   notebook_lang  139256 non-null  object\n",
      "dtypes: object(2)\n",
      "memory usage: 2.1+ MB\n"
     ]
    }
   ],
   "source": [
    "notebooks_lang_df = pd.read_csv(os.path.join(PROCESSING_DATA_PATH, 'notebooks_lang.csv'))\n",
    "notebooks_lang_df.info()"
   ]
  },
  {
   "cell_type": "code",
   "execution_count": 18,
   "id": "96bc0f6c",
   "metadata": {},
   "outputs": [
    {
     "data": {
      "text/plain": [
       "notebook_id                               00015c83e2717b\n",
       "notebook_lang    (('__label__en',), array([0.93558216]))\n",
       "Name: 1, dtype: object"
      ]
     },
     "execution_count": 18,
     "metadata": {},
     "output_type": "execute_result"
    }
   ],
   "source": [
    "notebooks_lang_df.iloc[1]"
   ]
  },
  {
   "cell_type": "code",
   "execution_count": 19,
   "id": "ff32bc38",
   "metadata": {},
   "outputs": [
    {
     "data": {
      "text/html": [
       "<div>\n",
       "<style scoped>\n",
       "    .dataframe tbody tr th:only-of-type {\n",
       "        vertical-align: middle;\n",
       "    }\n",
       "\n",
       "    .dataframe tbody tr th {\n",
       "        vertical-align: top;\n",
       "    }\n",
       "\n",
       "    .dataframe thead th {\n",
       "        text-align: right;\n",
       "    }\n",
       "</style>\n",
       "<table border=\"1\" class=\"dataframe\">\n",
       "  <thead>\n",
       "    <tr style=\"text-align: right;\">\n",
       "      <th></th>\n",
       "      <th>notebook_id</th>\n",
       "      <th>notebook_lang</th>\n",
       "    </tr>\n",
       "  </thead>\n",
       "  <tbody>\n",
       "    <tr>\n",
       "      <th>0</th>\n",
       "      <td>00001756c60be8</td>\n",
       "      <td>ru</td>\n",
       "    </tr>\n",
       "    <tr>\n",
       "      <th>1</th>\n",
       "      <td>00015c83e2717b</td>\n",
       "      <td>en</td>\n",
       "    </tr>\n",
       "    <tr>\n",
       "      <th>2</th>\n",
       "      <td>0001bdd4021779</td>\n",
       "      <td>en</td>\n",
       "    </tr>\n",
       "    <tr>\n",
       "      <th>3</th>\n",
       "      <td>0001daf4c2c76d</td>\n",
       "      <td>en</td>\n",
       "    </tr>\n",
       "    <tr>\n",
       "      <th>4</th>\n",
       "      <td>0002115f48f982</td>\n",
       "      <td>en</td>\n",
       "    </tr>\n",
       "    <tr>\n",
       "      <th>...</th>\n",
       "      <td>...</td>\n",
       "      <td>...</td>\n",
       "    </tr>\n",
       "    <tr>\n",
       "      <th>139251</th>\n",
       "      <td>fffc30d5a0bc46</td>\n",
       "      <td>en</td>\n",
       "    </tr>\n",
       "    <tr>\n",
       "      <th>139252</th>\n",
       "      <td>fffc3b44869198</td>\n",
       "      <td>en</td>\n",
       "    </tr>\n",
       "    <tr>\n",
       "      <th>139253</th>\n",
       "      <td>fffc63ff750064</td>\n",
       "      <td>en</td>\n",
       "    </tr>\n",
       "    <tr>\n",
       "      <th>139254</th>\n",
       "      <td>fffcd063cda949</td>\n",
       "      <td>en</td>\n",
       "    </tr>\n",
       "    <tr>\n",
       "      <th>139255</th>\n",
       "      <td>fffe1d764579d5</td>\n",
       "      <td>en</td>\n",
       "    </tr>\n",
       "  </tbody>\n",
       "</table>\n",
       "<p>139256 rows × 2 columns</p>\n",
       "</div>"
      ],
      "text/plain": [
       "           notebook_id notebook_lang\n",
       "0       00001756c60be8            ru\n",
       "1       00015c83e2717b            en\n",
       "2       0001bdd4021779            en\n",
       "3       0001daf4c2c76d            en\n",
       "4       0002115f48f982            en\n",
       "...                ...           ...\n",
       "139251  fffc30d5a0bc46            en\n",
       "139252  fffc3b44869198            en\n",
       "139253  fffc63ff750064            en\n",
       "139254  fffcd063cda949            en\n",
       "139255  fffe1d764579d5            en\n",
       "\n",
       "[139256 rows x 2 columns]"
      ]
     },
     "execution_count": 19,
     "metadata": {},
     "output_type": "execute_result"
    }
   ],
   "source": [
    "def get_lang(row):\n",
    "    row['notebook_lang'] = re.findall(r\"__label__[a-z]{2}\", row['notebook_lang'])[0].replace(\"__label__\", \"\")\n",
    "    return row\n",
    "\n",
    "notebooks_lang = notebooks_lang_df.apply(get_lang, axis=1)\n",
    "notebooks_lang"
   ]
  },
  {
   "cell_type": "code",
   "execution_count": 20,
   "id": "8676c6ba",
   "metadata": {},
   "outputs": [
    {
     "data": {
      "text/plain": [
       "en    128837\n",
       "pt      1620\n",
       "ko      1359\n",
       "ja      1251\n",
       "ru      1218\n",
       "       ...  \n",
       "sq         1\n",
       "ky         1\n",
       "af         1\n",
       "mk         1\n",
       "ia         1\n",
       "Name: notebook_lang, Length: 73, dtype: int64"
      ]
     },
     "execution_count": 20,
     "metadata": {},
     "output_type": "execute_result"
    }
   ],
   "source": [
    "notebooks_lang['notebook_lang'].value_counts()"
   ]
  },
  {
   "cell_type": "code",
   "execution_count": 21,
   "id": "1f4bbafe",
   "metadata": {},
   "outputs": [
    {
     "data": {
      "text/html": [
       "<div>\n",
       "<style scoped>\n",
       "    .dataframe tbody tr th:only-of-type {\n",
       "        vertical-align: middle;\n",
       "    }\n",
       "\n",
       "    .dataframe tbody tr th {\n",
       "        vertical-align: top;\n",
       "    }\n",
       "\n",
       "    .dataframe thead th {\n",
       "        text-align: right;\n",
       "    }\n",
       "</style>\n",
       "<table border=\"1\" class=\"dataframe\">\n",
       "  <thead>\n",
       "    <tr style=\"text-align: right;\">\n",
       "      <th></th>\n",
       "      <th>notebook_id</th>\n",
       "      <th>notebook_lang</th>\n",
       "    </tr>\n",
       "  </thead>\n",
       "  <tbody>\n",
       "    <tr>\n",
       "      <th>103250</th>\n",
       "      <td>bdb959d13c0218</td>\n",
       "      <td>ky</td>\n",
       "    </tr>\n",
       "  </tbody>\n",
       "</table>\n",
       "</div>"
      ],
      "text/plain": [
       "           notebook_id notebook_lang\n",
       "103250  bdb959d13c0218            ky"
      ]
     },
     "execution_count": 21,
     "metadata": {},
     "output_type": "execute_result"
    }
   ],
   "source": [
    "notebooks_lang[notebooks_lang.notebook_lang == \"ky\"]"
   ]
  },
  {
   "cell_type": "code",
   "execution_count": 22,
   "id": "4a0ad8ad",
   "metadata": {},
   "outputs": [
    {
     "data": {
      "text/plain": [
       "4728338    # **Кыргыз тилинде коронавирустун тарашы боюнч...\n",
       "4728339    import IPython\\nurl = \"https://flo.uri.sh/visu...\n",
       "4728340    import numpy as np\\nimport pandas as pd\\nimpor...\n",
       "4728341    cleaned_data = pd.read_csv('covid_19_data.csv'...\n",
       "4728342    \\nfig = px.line(grouped_china_date, x=\"Дата\", ...\n",
       "4728343    data['Облус'] = data['Облус'].fillna('')\\ntemp...\n",
       "4728344    cis = list(['Armenia','Azerbaijan','Belarus','...\n",
       "4728345    fig = px.bar(latest_grouped.sort_values('Ооруг...\n",
       "4728346    fig = px.bar(cis_grouped_latest.sort_values('О...\n",
       "4728347    fig = px.line(grouped, x=\"Дата\", y=\"Көз_жумган...\n",
       "4728348    fig = px.bar(latest_grouped.sort_values('Көз_ж...\n",
       "4728349    fig = px.bar(cis_grouped_latest.sort_values('К...\n",
       "4728350    fig = px.bar(latest_grouped.sort_values('Айыкк...\n",
       "4728351    fig = px.bar(cis_grouped_latest.sort_values('А...\n",
       "4728352    temp = cleaned_data.groupby('Дата')['Айыкканда...\n",
       "4728353    cleaned_latest = cleaned_data[cleaned_data['Да...\n",
       "4728354    flg['Айыккандардын_саны'] = round((flg['Айыкка...\n",
       "4728355    formated_gdf = data.groupby(['Дата', 'Мамлекет...\n",
       "Name: source, dtype: object"
      ]
     },
     "execution_count": 22,
     "metadata": {},
     "output_type": "execute_result"
    }
   ],
   "source": [
    "train[train.id == \"bdb959d13c0218\"].source"
   ]
  },
  {
   "cell_type": "markdown",
   "id": "8708075d",
   "metadata": {},
   "source": [
    "### Markdown cell analise"
   ]
  },
  {
   "cell_type": "code",
   "execution_count": 35,
   "id": "d08b6488",
   "metadata": {},
   "outputs": [
    {
     "data": {
      "text/plain": [
       "Index(['ba14b6fba142e9', '122446496468d9', '4ddbb277c4060d', '6f723767e67bd2',\n",
       "       '4678a086c5a524', '7382cfe9df8040', '6c3c786ff199d1', '8a3c379e904be4',\n",
       "       'd743abce150061', '6fe081d9a02d81',\n",
       "       ...\n",
       "       '539c3581c2869e', '34166d2af4ed3e', '187117b6673c50', '4511b508c0233a',\n",
       "       '8e11deecb59e92', '34140c801d6226', 'd0872959291a95', '53965e9aac76ec',\n",
       "       '3412acea5e5285', '45ae9980379518'],\n",
       "      dtype='object', name='id', length=139256)"
      ]
     },
     "execution_count": 35,
     "metadata": {},
     "output_type": "execute_result"
    }
   ],
   "source": [
    "counts_df.sort_values(['markdown'], ascending=False)"
   ]
  },
  {
   "cell_type": "code",
   "execution_count": 38,
   "id": "c9337f66",
   "metadata": {},
   "outputs": [
    {
     "name": "stderr",
     "output_type": "stream",
     "text": [
      "  0%|          | 0/30 [00:00<?, ?it/s]/tmp/ipykernel_55555/959808197.py:5: UserWarning: Boolean Series key will be reindexed to match DataFrame index.\n",
      "  max_markdown_cells_df = max_markdown_cells_df[train.cell_type == 'markdown']\n",
      "100%|██████████| 30/30 [00:08<00:00,  3.49it/s]\n"
     ]
    }
   ],
   "source": [
    "TOP_N = 30\n",
    "\n",
    "def save_markdowns(notebook_id):\n",
    "    max_markdown_cells_df = train[train.id == notebook_id]\n",
    "    max_markdown_cells_df = max_markdown_cells_df[train.cell_type == 'markdown']\n",
    "    max_markdown_cells_df.source.to_csv(os.path.join(PROCESSING_DATA_PATH, 'markdowns', notebook_id + '.csv'), index=False)\n",
    "\n",
    "for id in tqdm(counts_df.sort_values(['markdown'], ascending=False).index[:TOP_N]):\n",
    "    save_markdowns(id)\n",
    "#max_markdown_cells_df = train[train.id == counts_df.markdown.idxmax()]\n",
    "#max_markdown_cells_df = max_markdown_cells_df[train.cell_type == 'markdown'].sort_values(['markdown'])\n",
    "#max_markdown_cells_df"
   ]
  },
  {
   "cell_type": "code",
   "execution_count": 27,
   "id": "cc7b068c",
   "metadata": {},
   "outputs": [],
   "source": [
    "#max_markdown_cells_df.source.to_csv(os.path.join(PROCESSING_DATA_PATH, 'md_temp.csv'), index=False)"
   ]
  },
  {
   "cell_type": "code",
   "execution_count": null,
   "id": "d4289347",
   "metadata": {},
   "outputs": [],
   "source": []
  }
 ],
 "metadata": {
  "interpreter": {
   "hash": "916dbcbb3f70747c44a77c7bcd40155683ae19c65e1c03b4aa3499c5328201f1"
  },
  "kernelspec": {
   "display_name": "Python 3.8.10 64-bit",
   "language": "python",
   "name": "python3"
  },
  "language_info": {
   "codemirror_mode": {
    "name": "ipython",
    "version": 3
   },
   "file_extension": ".py",
   "mimetype": "text/x-python",
   "name": "python",
   "nbconvert_exporter": "python",
   "pygments_lexer": "ipython3",
   "version": "3.8.10"
  },
  "papermill": {
   "default_parameters": {},
   "duration": 59.931532,
   "end_time": "2022-05-17T13:47:08.490799",
   "environment_variables": {},
   "exception": null,
   "input_path": "__notebook__.ipynb",
   "output_path": "__notebook__.ipynb",
   "parameters": {},
   "start_time": "2022-05-17T13:46:08.559267",
   "version": "2.3.4"
  }
 },
 "nbformat": 4,
 "nbformat_minor": 5
}
