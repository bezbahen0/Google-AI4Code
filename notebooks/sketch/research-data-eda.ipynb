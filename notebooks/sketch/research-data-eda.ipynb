{
 "cells": [
  {
   "cell_type": "markdown",
   "id": "24ffc0fe",
   "metadata": {},
   "source": [
    "# AI4Code: EDA\n",
    "\n",
    "Questions:\n",
    "\n",
    "- How many cells on average per notebook?\n",
    "- What is the breakdown of markdown vs code cells.\n",
    "- How many notebooks share the same ancestor_id\n",
    "- What languages are in the markdown cells (If there are several languages, then select the one that prevails in the markdown cells)\n",
    "    - the same as in the previous steps but with a breakdown by language\n",
    "- what characters are in the markdown cells (looking for what is garbage and can be purged from the data)"
   ]
  },
  {
   "cell_type": "markdown",
   "id": "1db068c0",
   "metadata": {},
   "source": [
    "## Used notebooks:\n",
    "- https://www.kaggle.com/code/robikscube/google-ai4code-data-to-parquet-twitch-stream-eda\n",
    "- https://www.kaggle.com/code/odins0n/ai4code-detailed-eda\n",
    "- https://www.kaggle.com/code/ilyaryabov/fasttext-public-model-teaching/notebook"
   ]
  },
  {
   "cell_type": "markdown",
   "id": "8905b844",
   "metadata": {},
   "source": []
  },
  {
   "cell_type": "code",
   "execution_count": 1,
   "id": "d1fd7aa4",
   "metadata": {},
   "outputs": [],
   "source": [
    "import os\n",
    "\n",
    "import numpy as np \n",
    "import pandas as pd\n",
    "import matplotlib.pyplot as plt\n",
    "from tqdm import tqdm"
   ]
  },
  {
   "cell_type": "code",
   "execution_count": 2,
   "id": "0ab3335c",
   "metadata": {},
   "outputs": [],
   "source": [
    "RAW_DATA_PATH = '../../data/raw'\n",
    "PROCESSING_DATA_PATH = '../../data/merged/'"
   ]
  },
  {
   "cell_type": "code",
   "execution_count": 3,
   "id": "63699a9b",
   "metadata": {},
   "outputs": [
    {
     "name": "stdout",
     "output_type": "stream",
     "text": [
      "CPU times: user 7.49 s, sys: 4.54 s, total: 12 s\n",
      "Wall time: 20 s\n"
     ]
    },
    {
     "data": {
      "text/html": [
       "<div>\n",
       "<style scoped>\n",
       "    .dataframe tbody tr th:only-of-type {\n",
       "        vertical-align: middle;\n",
       "    }\n",
       "\n",
       "    .dataframe tbody tr th {\n",
       "        vertical-align: top;\n",
       "    }\n",
       "\n",
       "    .dataframe thead th {\n",
       "        text-align: right;\n",
       "    }\n",
       "</style>\n",
       "<table border=\"1\" class=\"dataframe\">\n",
       "  <thead>\n",
       "    <tr style=\"text-align: right;\">\n",
       "      <th></th>\n",
       "      <th>id</th>\n",
       "      <th>cell</th>\n",
       "      <th>cell_type</th>\n",
       "      <th>source</th>\n",
       "      <th>order</th>\n",
       "      <th>ancestor_id</th>\n",
       "      <th>parent_id</th>\n",
       "    </tr>\n",
       "  </thead>\n",
       "  <tbody>\n",
       "    <tr>\n",
       "      <th>0</th>\n",
       "      <td>00015c83e2717b</td>\n",
       "      <td>2e94bd7a</td>\n",
       "      <td>markdown</td>\n",
       "      <td>## Note : This Kernel is a Fork from the amazi...</td>\n",
       "      <td>0</td>\n",
       "      <td>aa2da37e</td>\n",
       "      <td>317b65d12af9df</td>\n",
       "    </tr>\n",
       "    <tr>\n",
       "      <th>1</th>\n",
       "      <td>00015c83e2717b</td>\n",
       "      <td>3e99dee9</td>\n",
       "      <td>markdown</td>\n",
       "      <td>## About The Competition : Detecting Steel Def...</td>\n",
       "      <td>1</td>\n",
       "      <td>aa2da37e</td>\n",
       "      <td>317b65d12af9df</td>\n",
       "    </tr>\n",
       "    <tr>\n",
       "      <th>2</th>\n",
       "      <td>00015c83e2717b</td>\n",
       "      <td>b5e286ea</td>\n",
       "      <td>markdown</td>\n",
       "      <td>Reference :http://faculty.neu.edu.cn/yunhyan/...</td>\n",
       "      <td>2</td>\n",
       "      <td>aa2da37e</td>\n",
       "      <td>317b65d12af9df</td>\n",
       "    </tr>\n",
       "    <tr>\n",
       "      <th>3</th>\n",
       "      <td>00015c83e2717b</td>\n",
       "      <td>da4f7550</td>\n",
       "      <td>markdown</td>\n",
       "      <td>## import modules and define models</td>\n",
       "      <td>3</td>\n",
       "      <td>aa2da37e</td>\n",
       "      <td>317b65d12af9df</td>\n",
       "    </tr>\n",
       "    <tr>\n",
       "      <th>4</th>\n",
       "      <td>00015c83e2717b</td>\n",
       "      <td>c417225b</td>\n",
       "      <td>code</td>\n",
       "      <td>import numpy as np # linear algebra\\nimport pa...</td>\n",
       "      <td>4</td>\n",
       "      <td>aa2da37e</td>\n",
       "      <td>317b65d12af9df</td>\n",
       "    </tr>\n",
       "  </tbody>\n",
       "</table>\n",
       "</div>"
      ],
      "text/plain": [
       "               id      cell cell_type  \\\n",
       "0  00015c83e2717b  2e94bd7a  markdown   \n",
       "1  00015c83e2717b  3e99dee9  markdown   \n",
       "2  00015c83e2717b  b5e286ea  markdown   \n",
       "3  00015c83e2717b  da4f7550  markdown   \n",
       "4  00015c83e2717b  c417225b      code   \n",
       "\n",
       "                                              source  order ancestor_id  \\\n",
       "0  ## Note : This Kernel is a Fork from the amazi...      0    aa2da37e   \n",
       "1  ## About The Competition : Detecting Steel Def...      1    aa2da37e   \n",
       "2   Reference :http://faculty.neu.edu.cn/yunhyan/...      2    aa2da37e   \n",
       "3                ## import modules and define models      3    aa2da37e   \n",
       "4  import numpy as np # linear algebra\\nimport pa...      4    aa2da37e   \n",
       "\n",
       "        parent_id  \n",
       "0  317b65d12af9df  \n",
       "1  317b65d12af9df  \n",
       "2  317b65d12af9df  \n",
       "3  317b65d12af9df  \n",
       "4  317b65d12af9df  "
      ]
     },
     "execution_count": 3,
     "metadata": {},
     "output_type": "execute_result"
    }
   ],
   "source": [
    "%%time\n",
    "train = pd.read_parquet(os.path.join(PROCESSING_DATA_PATH, 'train_all.parquet'))\n",
    "train = train.astype({'cell_type': 'category', 'source': 'str'}, errors='raise') \n",
    "\n",
    "train.head()"
   ]
  },
  {
   "cell_type": "markdown",
   "id": "bc26b1aa",
   "metadata": {},
   "source": [
    "## Surface analysis"
   ]
  },
  {
   "cell_type": "markdown",
   "id": "872ceef4",
   "metadata": {},
   "source": [
    "### Averate cell by type per notebook"
   ]
  },
  {
   "cell_type": "code",
   "execution_count": 4,
   "id": "04325230",
   "metadata": {},
   "outputs": [
    {
     "name": "stdout",
     "output_type": "stream",
     "text": [
      "code        4204552\n",
      "markdown    2166036\n",
      "Name: cell_type, dtype: int64\n"
     ]
    },
    {
     "data": {
      "image/png": "[encoded data removed]",
      "text/plain": [
       "<Figure size 576x360 with 1 Axes>"
      ]
     },
     "metadata": {
      "needs_background": "light"
     },
     "output_type": "display_data"
    }
   ],
   "source": [
    "train[\"cell_type\"].value_counts().plot(\n",
    "    kind=\"barh\",\n",
    "    title=\"Code vs. Markdown Cells in Total\",\n",
    "    #color=my_pal[2],\n",
    "    figsize=(8, 5)\n",
    ")\n",
    "print(train[\"cell_type\"].value_counts())\n",
    "plt.show()\n"
   ]
  },
  {
   "cell_type": "code",
   "execution_count": 5,
   "id": "387044e9",
   "metadata": {},
   "outputs": [
    {
     "name": "stdout",
     "output_type": "stream",
     "text": [
      "The median number of cells per notebook is: 35.0\n"
     ]
    },
    {
     "data": {
      "image/png": "[encoded data removed]",
      "text/plain": [
       "<Figure size 432x288 with 1 Axes>"
      ]
     },
     "metadata": {
      "needs_background": "light"
     },
     "output_type": "display_data"
    }
   ],
   "source": [
    "# Number of Cells per id\n",
    "train[\"id\"].value_counts().plot(\n",
    "    kind=\"hist\", bins=50, title=\"Distribution of # of Cells per Notebook\"\n",
    ")\n",
    "print(\"The median number of cells per notebook is:\", train[\"id\"].value_counts().median())\n",
    "plt.show()\n"
   ]
  },
  {
   "cell_type": "code",
   "execution_count": 6,
   "id": "a723a36c",
   "metadata": {},
   "outputs": [
    {
     "data": {
      "image/png": "[encoded data removed]",
      "text/plain": [
       "<Figure size 576x720 with 1 Axes>"
      ]
     },
     "metadata": {
      "needs_background": "light"
     },
     "output_type": "display_data"
    }
   ],
   "source": [
    "train[\"id\"].value_counts().head(50).sort_values().plot(\n",
    "    kind=\"barh\", figsize=(8, 10), title=\"Top 50 Notebooks by # of Cells\"\n",
    ")\n",
    "plt.show()\n"
   ]
  },
  {
   "cell_type": "markdown",
   "id": "6794aa2c",
   "metadata": {},
   "source": [
    "### What's the most forked notebook"
   ]
  },
  {
   "cell_type": "code",
   "execution_count": 7,
   "id": "f61c9905",
   "metadata": {},
   "outputs": [
    {
     "data": {
      "text/plain": [
       "<AxesSubplot:title={'center':'Top Forked Notebooks'}>"
      ]
     },
     "execution_count": 7,
     "metadata": {},
     "output_type": "execute_result"
    },
    {
     "data": {
      "image/png": "[encoded data removed]",
      "text/plain": [
       "<Figure size 576x576 with 1 Axes>"
      ]
     },
     "metadata": {
      "needs_background": "light"
     },
     "output_type": "display_data"
    }
   ],
   "source": [
    "# Find top Id\n",
    "# Find the most \"parent\"\n",
    "train[\"parent_id\"].value_counts().head(20).sort_values().plot(\n",
    "    kind=\"barh\", figsize=(8, 8), title=\"Top Forked Notebooks\"\n",
    ")\n"
   ]
  },
  {
   "cell_type": "markdown",
   "id": "fe4e0d71",
   "metadata": {},
   "source": [
    "## Deeper analysis"
   ]
  },
  {
   "cell_type": "markdown",
   "id": "7d86d304",
   "metadata": {},
   "source": [
    "### Code cells Length distribution"
   ]
  },
  {
   "cell_type": "code",
   "execution_count": 8,
   "id": "2059360d",
   "metadata": {},
   "outputs": [
    {
     "name": "stdout",
     "output_type": "stream",
     "text": [
      "\u001b[94m Min Code Cells Length =  1\n",
      "\u001b[94m Mean Code cells Length =  25.24\n",
      "\u001b[94m Max Code Cells Length =  74589\n",
      "\u001b[94m Median Code cells Length =  10.0\n",
      "\u001b[94m Std Code cells Length =  100.65\n"
     ]
    }
   ],
   "source": [
    "code_df = train[train.cell_type == \"code\"].source\n",
    "code_lengths = np.array([len(df.split()) for df in code_df])\n",
    "print(f'\\033[94m Min Code Cells Length = ', min(code_lengths))\n",
    "print(f'\\033[94m Mean Code cells Length = ', round(np.mean(code_lengths),2))\n",
    "print(f'\\033[94m Max Code Cells Length = ', max(code_lengths))\n",
    "print(f'\\033[94m Median Code cells Length = ', round(np.median(code_lengths),2))\n",
    "print(f'\\033[94m Std Code cells Length = ', round(np.std(code_lengths),2))"
   ]
  },
  {
   "cell_type": "code",
   "execution_count": 9,
   "id": "13e1b7b4",
   "metadata": {},
   "outputs": [
    {
     "data": {
      "text/plain": [
       "Text(0.5, 0, 'Lenght of Code Cells')"
      ]
     },
     "execution_count": 9,
     "metadata": {},
     "output_type": "execute_result"
    },
    {
     "data": {
      "image/png": "[encoded data removed]",
      "text/plain": [
       "<Figure size 1296x432 with 1 Axes>"
      ]
     },
     "metadata": {
      "needs_background": "light"
     },
     "output_type": "display_data"
    }
   ],
   "source": [
    "fig,ax= plt.subplots(figsize= (18,6))\n",
    "plt.boxplot(code_lengths, vert = False)\n",
    "plt.xlabel(\"Lenght of Code Cells\")"
   ]
  },
  {
   "cell_type": "markdown",
   "id": "b059b84f",
   "metadata": {},
   "source": [
    "### Markdown Cells Length Distribution"
   ]
  },
  {
   "cell_type": "code",
   "execution_count": 10,
   "id": "cbf9e687",
   "metadata": {},
   "outputs": [
    {
     "name": "stdout",
     "output_type": "stream",
     "text": [
      "\u001b[94m Min Markdown Cells Length =  1\n",
      "\u001b[94m Mean Markdown cells Length =  29.42\n",
      "\u001b[94m Max Markdown Cells Length =  38939\n",
      "\u001b[94m Median Code cells Length =  11.0\n",
      "\u001b[94m Std Code cells Length =  70.39\n"
     ]
    }
   ],
   "source": [
    "mkd_df = train[train.cell_type == \"markdown\"].source\n",
    "mkd_lengths = np.array([len(df.split()) for df in mkd_df])\n",
    "print(f'\\033[94m Min Markdown Cells Length = ', min(mkd_lengths))\n",
    "print(f'\\033[94m Mean Markdown cells Length = ', round(np.mean(mkd_lengths),2))\n",
    "print(f'\\033[94m Max Markdown Cells Length = ', max(mkd_lengths))\n",
    "print(f'\\033[94m Median Code cells Length = ', round(np.median(mkd_lengths),2))\n",
    "print(f'\\033[94m Std Code cells Length = ', round(np.std(mkd_lengths),2))"
   ]
  },
  {
   "cell_type": "code",
   "execution_count": 11,
   "id": "b5b7bcda",
   "metadata": {},
   "outputs": [
    {
     "data": {
      "text/plain": [
       "Text(0.5, 0, 'Lenght of Markdown Cells')"
      ]
     },
     "execution_count": 11,
     "metadata": {},
     "output_type": "execute_result"
    },
    {
     "data": {
      "image/png": "[encoded data removed]",
      "text/plain": [
       "<Figure size 1296x432 with 1 Axes>"
      ]
     },
     "metadata": {
      "needs_background": "light"
     },
     "output_type": "display_data"
    }
   ],
   "source": [
    "fig,ax= plt.subplots(figsize= (18,6))\n",
    "plt.boxplot(mkd_lengths, vert = False)\n",
    "plt.xlabel(\"Lenght of Markdown Cells\")"
   ]
  },
  {
   "cell_type": "markdown",
   "id": "bbc5ff9f",
   "metadata": {},
   "source": [
    "### Notebooks cells count"
   ]
  },
  {
   "cell_type": "code",
   "execution_count": 12,
   "id": "8cd76575",
   "metadata": {},
   "outputs": [
    {
     "data": {
      "text/html": [
       "<div>\n",
       "<style scoped>\n",
       "    .dataframe tbody tr th:only-of-type {\n",
       "        vertical-align: middle;\n",
       "    }\n",
       "\n",
       "    .dataframe tbody tr th {\n",
       "        vertical-align: top;\n",
       "    }\n",
       "\n",
       "    .dataframe thead th {\n",
       "        text-align: right;\n",
       "    }\n",
       "</style>\n",
       "<table border=\"1\" class=\"dataframe\">\n",
       "  <thead>\n",
       "    <tr style=\"text-align: right;\">\n",
       "      <th>cell_type</th>\n",
       "      <th>code</th>\n",
       "      <th>markdown</th>\n",
       "    </tr>\n",
       "    <tr>\n",
       "      <th>id</th>\n",
       "      <th></th>\n",
       "      <th></th>\n",
       "    </tr>\n",
       "  </thead>\n",
       "  <tbody>\n",
       "    <tr>\n",
       "      <th>00015c83e2717b</th>\n",
       "      <td>72</td>\n",
       "      <td>21</td>\n",
       "    </tr>\n",
       "    <tr>\n",
       "      <th>0001bdd4021779</th>\n",
       "      <td>11</td>\n",
       "      <td>2</td>\n",
       "    </tr>\n",
       "    <tr>\n",
       "      <th>0001daf4c2c76d</th>\n",
       "      <td>178</td>\n",
       "      <td>51</td>\n",
       "    </tr>\n",
       "    <tr>\n",
       "      <th>0002115f48f982</th>\n",
       "      <td>8</td>\n",
       "      <td>1</td>\n",
       "    </tr>\n",
       "    <tr>\n",
       "      <th>00035108e64677</th>\n",
       "      <td>23</td>\n",
       "      <td>11</td>\n",
       "    </tr>\n",
       "  </tbody>\n",
       "</table>\n",
       "</div>"
      ],
      "text/plain": [
       "cell_type       code  markdown\n",
       "id                            \n",
       "00015c83e2717b    72        21\n",
       "0001bdd4021779    11         2\n",
       "0001daf4c2c76d   178        51\n",
       "0002115f48f982     8         1\n",
       "00035108e64677    23        11"
      ]
     },
     "execution_count": 12,
     "metadata": {},
     "output_type": "execute_result"
    }
   ],
   "source": [
    "# Calculate cells per notebook\n",
    "counts_df = train[['id', 'cell', 'cell_type']].groupby(['id','cell_type']).count().reset_index()\n",
    "counts_df = counts_df.groupby(['id', 'cell_type'])['cell'].aggregate('first').unstack()\n",
    "counts_df.head()"
   ]
  },
  {
   "cell_type": "code",
   "execution_count": 13,
   "id": "696e00cf",
   "metadata": {},
   "outputs": [
    {
     "data": {
      "text/html": [
       "<div>\n",
       "<style scoped>\n",
       "    .dataframe tbody tr th:only-of-type {\n",
       "        vertical-align: middle;\n",
       "    }\n",
       "\n",
       "    .dataframe tbody tr th {\n",
       "        vertical-align: top;\n",
       "    }\n",
       "\n",
       "    .dataframe thead th {\n",
       "        text-align: right;\n",
       "    }\n",
       "</style>\n",
       "<table border=\"1\" class=\"dataframe\">\n",
       "  <thead>\n",
       "    <tr style=\"text-align: right;\">\n",
       "      <th>cell_type</th>\n",
       "      <th>code</th>\n",
       "      <th>markdown</th>\n",
       "      <th>total</th>\n",
       "    </tr>\n",
       "  </thead>\n",
       "  <tbody>\n",
       "    <tr>\n",
       "      <th>count</th>\n",
       "      <td>139255.000000</td>\n",
       "      <td>139255.000000</td>\n",
       "      <td>139255.000000</td>\n",
       "    </tr>\n",
       "    <tr>\n",
       "      <th>mean</th>\n",
       "      <td>30.193185</td>\n",
       "      <td>15.554458</td>\n",
       "      <td>45.747643</td>\n",
       "    </tr>\n",
       "    <tr>\n",
       "      <th>std</th>\n",
       "      <td>26.957549</td>\n",
       "      <td>17.223786</td>\n",
       "      <td>40.085904</td>\n",
       "    </tr>\n",
       "    <tr>\n",
       "      <th>min</th>\n",
       "      <td>1.000000</td>\n",
       "      <td>1.000000</td>\n",
       "      <td>2.000000</td>\n",
       "    </tr>\n",
       "    <tr>\n",
       "      <th>25%</th>\n",
       "      <td>14.000000</td>\n",
       "      <td>5.000000</td>\n",
       "      <td>21.000000</td>\n",
       "    </tr>\n",
       "    <tr>\n",
       "      <th>50%</th>\n",
       "      <td>23.000000</td>\n",
       "      <td>11.000000</td>\n",
       "      <td>35.000000</td>\n",
       "    </tr>\n",
       "    <tr>\n",
       "      <th>75%</th>\n",
       "      <td>38.000000</td>\n",
       "      <td>20.000000</td>\n",
       "      <td>57.000000</td>\n",
       "    </tr>\n",
       "    <tr>\n",
       "      <th>max</th>\n",
       "      <td>809.000000</td>\n",
       "      <td>537.000000</td>\n",
       "      <td>1005.000000</td>\n",
       "    </tr>\n",
       "  </tbody>\n",
       "</table>\n",
       "</div>"
      ],
      "text/plain": [
       "cell_type           code       markdown          total\n",
       "count      139255.000000  139255.000000  139255.000000\n",
       "mean           30.193185      15.554458      45.747643\n",
       "std            26.957549      17.223786      40.085904\n",
       "min             1.000000       1.000000       2.000000\n",
       "25%            14.000000       5.000000      21.000000\n",
       "50%            23.000000      11.000000      35.000000\n",
       "75%            38.000000      20.000000      57.000000\n",
       "max           809.000000     537.000000    1005.000000"
      ]
     },
     "execution_count": 13,
     "metadata": {},
     "output_type": "execute_result"
    }
   ],
   "source": [
    "counts_df[\"total\"] = counts_df[\"code\"] + counts_df[\"markdown\"]\n",
    "counts_df.describe()"
   ]
  },
  {
   "cell_type": "code",
   "execution_count": 14,
   "id": "7a4975e2",
   "metadata": {},
   "outputs": [
    {
     "data": {
      "text/plain": [
       "cell_type\n",
       "code        23.0\n",
       "markdown    11.0\n",
       "total       35.0\n",
       "dtype: float64"
      ]
     },
     "execution_count": 14,
     "metadata": {},
     "output_type": "execute_result"
    }
   ],
   "source": [
    "counts_df.median()\n"
   ]
  },
  {
   "cell_type": "code",
   "execution_count": 15,
   "id": "361e006a",
   "metadata": {},
   "outputs": [
    {
     "name": "stdout",
     "output_type": "stream",
     "text": [
      "\u001b[94mTotal notebook with either 1 code cell or 1 markdown cell =  11426\n",
      "\u001b[94mTotal notebook with both 1 code cell and 1 markdown cell =  392\n",
      "\u001b[94mNotebook counts with only 1 code cell  =  737\n",
      "\u001b[94mNotebook counts with only 1 markdown cell  =  11081\n"
     ]
    }
   ],
   "source": [
    "either_one = counts_df[(counts_df[\"markdown\"] == 1) | (counts_df[\"code\"] == 1 )] \n",
    "both_one = counts_df[(counts_df[\"markdown\"] == 1) & (counts_df[\"code\"] == 1 )] \n",
    "code_count_one = counts_df[counts_df[\"code\"] == 1 ]\n",
    "markdown_count_one  = counts_df[counts_df[\"markdown\"] == 1 ]\n",
    "\n",
    "print(f\"\\033[94mTotal notebook with either 1 code cell or 1 markdown cell = \", len(either_one))\n",
    "print(f\"\\033[94mTotal notebook with both 1 code cell and 1 markdown cell = \", len(both_one ))\n",
    "print(f\"\\033[94mNotebook counts with only 1 code cell  = \" ,len(code_count_one))\n",
    "print(f\"\\033[94mNotebook counts with only 1 markdown cell  = \" ,len(markdown_count_one))"
   ]
  },
  {
   "cell_type": "markdown",
   "id": "0c07f0b5",
   "metadata": {},
   "source": [
    "### Cell Language Analysis"
   ]
  },
  {
   "cell_type": "markdown",
   "id": "31057bc5",
   "metadata": {},
   "source": [
    "#### Process dataframe"
   ]
  },
  {
   "cell_type": "code",
   "execution_count": 25,
   "id": "419d2a4c",
   "metadata": {},
   "outputs": [],
   "source": [
    "import re"
   ]
  },
  {
   "cell_type": "code",
   "execution_count": 26,
   "id": "2ac21ceb",
   "metadata": {},
   "outputs": [
    {
     "name": "stdout",
     "output_type": "stream",
     "text": [
      "<class 'pandas.core.frame.DataFrame'>\n",
      "RangeIndex: 139256 entries, 0 to 139255\n",
      "Data columns (total 2 columns):\n",
      " #   Column         Non-Null Count   Dtype \n",
      "---  ------         --------------   ----- \n",
      " 0   notebook_id    139256 non-null  object\n",
      " 1   notebook_lang  139256 non-null  object\n",
      "dtypes: object(2)\n",
      "memory usage: 2.1+ MB\n"
     ]
    }
   ],
   "source": [
    "notebooks_lang_df = pd.read_csv(os.path.join(PROCESSING_DATA_PATH, 'notebooks_lang.csv'))\n",
    "notebooks_lang_df.info()"
   ]
  },
  {
   "cell_type": "code",
   "execution_count": 27,
   "id": "96bc0f6c",
   "metadata": {},
   "outputs": [
    {
     "data": {
      "text/plain": [
       "notebook_id                               00015c83e2717b\n",
       "notebook_lang    (('__label__en',), array([0.93558216]))\n",
       "Name: 1, dtype: object"
      ]
     },
     "execution_count": 27,
     "metadata": {},
     "output_type": "execute_result"
    }
   ],
   "source": [
    "notebooks_lang_df.iloc[1]"
   ]
  },
  {
   "cell_type": "code",
   "execution_count": 28,
   "id": "ff32bc38",
   "metadata": {},
   "outputs": [
    {
     "data": {
      "text/html": [
       "<div>\n",
       "<style scoped>\n",
       "    .dataframe tbody tr th:only-of-type {\n",
       "        vertical-align: middle;\n",
       "    }\n",
       "\n",
       "    .dataframe tbody tr th {\n",
       "        vertical-align: top;\n",
       "    }\n",
       "\n",
       "    .dataframe thead th {\n",
       "        text-align: right;\n",
       "    }\n",
       "</style>\n",
       "<table border=\"1\" class=\"dataframe\">\n",
       "  <thead>\n",
       "    <tr style=\"text-align: right;\">\n",
       "      <th></th>\n",
       "      <th>notebook_id</th>\n",
       "      <th>notebook_lang</th>\n",
       "    </tr>\n",
       "  </thead>\n",
       "  <tbody>\n",
       "    <tr>\n",
       "      <th>0</th>\n",
       "      <td>00001756c60be8</td>\n",
       "      <td>ru</td>\n",
       "    </tr>\n",
       "    <tr>\n",
       "      <th>1</th>\n",
       "      <td>00015c83e2717b</td>\n",
       "      <td>en</td>\n",
       "    </tr>\n",
       "    <tr>\n",
       "      <th>2</th>\n",
       "      <td>0001bdd4021779</td>\n",
       "      <td>en</td>\n",
       "    </tr>\n",
       "    <tr>\n",
       "      <th>3</th>\n",
       "      <td>0001daf4c2c76d</td>\n",
       "      <td>en</td>\n",
       "    </tr>\n",
       "    <tr>\n",
       "      <th>4</th>\n",
       "      <td>0002115f48f982</td>\n",
       "      <td>en</td>\n",
       "    </tr>\n",
       "    <tr>\n",
       "      <th>...</th>\n",
       "      <td>...</td>\n",
       "      <td>...</td>\n",
       "    </tr>\n",
       "    <tr>\n",
       "      <th>139251</th>\n",
       "      <td>fffc30d5a0bc46</td>\n",
       "      <td>en</td>\n",
       "    </tr>\n",
       "    <tr>\n",
       "      <th>139252</th>\n",
       "      <td>fffc3b44869198</td>\n",
       "      <td>en</td>\n",
       "    </tr>\n",
       "    <tr>\n",
       "      <th>139253</th>\n",
       "      <td>fffc63ff750064</td>\n",
       "      <td>en</td>\n",
       "    </tr>\n",
       "    <tr>\n",
       "      <th>139254</th>\n",
       "      <td>fffcd063cda949</td>\n",
       "      <td>en</td>\n",
       "    </tr>\n",
       "    <tr>\n",
       "      <th>139255</th>\n",
       "      <td>fffe1d764579d5</td>\n",
       "      <td>en</td>\n",
       "    </tr>\n",
       "  </tbody>\n",
       "</table>\n",
       "<p>139256 rows × 2 columns</p>\n",
       "</div>"
      ],
      "text/plain": [
       "           notebook_id notebook_lang\n",
       "0       00001756c60be8            ru\n",
       "1       00015c83e2717b            en\n",
       "2       0001bdd4021779            en\n",
       "3       0001daf4c2c76d            en\n",
       "4       0002115f48f982            en\n",
       "...                ...           ...\n",
       "139251  fffc30d5a0bc46            en\n",
       "139252  fffc3b44869198            en\n",
       "139253  fffc63ff750064            en\n",
       "139254  fffcd063cda949            en\n",
       "139255  fffe1d764579d5            en\n",
       "\n",
       "[139256 rows x 2 columns]"
      ]
     },
     "execution_count": 28,
     "metadata": {},
     "output_type": "execute_result"
    }
   ],
   "source": [
    "def get_lang(row):\n",
    "    row['notebook_lang'] = re.findall(r\"__label__[a-z]{2}\", row['notebook_lang'])[0].replace(\"__label__\", \"\")\n",
    "    return row\n",
    "\n",
    "notebooks_lang = notebooks_lang_df.apply(get_lang, axis=1)\n",
    "notebooks_lang"
   ]
  },
  {
   "cell_type": "code",
   "execution_count": 34,
   "id": "8676c6ba",
   "metadata": {},
   "outputs": [
    {
     "data": {
      "text/plain": [
       "Index(['en', 'pt', 'ko', 'ja', 'ru', 'tr', 'es', 'zh', 'fr', 'id', 'vi', 'de',\n",
       "       'it', 'th', 'pl', 'ca', 'uk', 'nl', 'fa', 'mn', 'hu', 'ar', 'da', 'cs',\n",
       "       'ms', 'ro', 'el', 'hr', 'no', 'sr', 'fi', 'kn', 'la', 'sv', 'si', 'sk',\n",
       "       'az', 'hi', 'sl', 'bn', 'ce', 'eo', 'uz', 'gl', 'he', 'sh', 'oc', 'eu',\n",
       "       'ml', 'ht', 'tl', 'bg', 'nd', 'gd', 'my', 'lt', 'ie', 'mr', 'pa', 'te',\n",
       "       'bs', 'ur', 'ne', 'qu', 'be', 'fy', 'jb', 'ta', 'sq', 'ky', 'af', 'mk',\n",
       "       'ia'],\n",
       "      dtype='object')"
      ]
     },
     "execution_count": 34,
     "metadata": {},
     "output_type": "execute_result"
    }
   ],
   "source": [
    "notebooks_lang['notebook_lang'].value_counts().index"
   ]
  },
  {
   "cell_type": "code",
   "execution_count": 37,
   "id": "2d932cef",
   "metadata": {},
   "outputs": [
    {
     "ename": "KeyError",
     "evalue": "'en'",
     "output_type": "error",
     "traceback": [
      "\u001b[0;31m---------------------------------------------------------------------------\u001b[0m",
      "\u001b[0;31mKeyError\u001b[0m                                  Traceback (most recent call last)",
      "File \u001b[0;32m~/.local/lib/python3.8/site-packages/pandas/core/indexes/base.py:3621\u001b[0m, in \u001b[0;36mIndex.get_loc\u001b[0;34m(self, key, method, tolerance)\u001b[0m\n\u001b[1;32m   3620\u001b[0m \u001b[39mtry\u001b[39;00m:\n\u001b[0;32m-> 3621\u001b[0m     \u001b[39mreturn\u001b[39;00m \u001b[39mself\u001b[39;49m\u001b[39m.\u001b[39;49m_engine\u001b[39m.\u001b[39;49mget_loc(casted_key)\n\u001b[1;32m   3622\u001b[0m \u001b[39mexcept\u001b[39;00m \u001b[39mKeyError\u001b[39;00m \u001b[39mas\u001b[39;00m err:\n",
      "File \u001b[0;32m~/.local/lib/python3.8/site-packages/pandas/_libs/index.pyx:136\u001b[0m, in \u001b[0;36mpandas._libs.index.IndexEngine.get_loc\u001b[0;34m()\u001b[0m\n",
      "File \u001b[0;32m~/.local/lib/python3.8/site-packages/pandas/_libs/index.pyx:163\u001b[0m, in \u001b[0;36mpandas._libs.index.IndexEngine.get_loc\u001b[0;34m()\u001b[0m\n",
      "File \u001b[0;32mpandas/_libs/hashtable_class_helper.pxi:5198\u001b[0m, in \u001b[0;36mpandas._libs.hashtable.PyObjectHashTable.get_item\u001b[0;34m()\u001b[0m\n",
      "File \u001b[0;32mpandas/_libs/hashtable_class_helper.pxi:5206\u001b[0m, in \u001b[0;36mpandas._libs.hashtable.PyObjectHashTable.get_item\u001b[0;34m()\u001b[0m\n",
      "\u001b[0;31mKeyError\u001b[0m: 'en'",
      "\nThe above exception was the direct cause of the following exception:\n",
      "\u001b[0;31mKeyError\u001b[0m                                  Traceback (most recent call last)",
      "\u001b[1;32m/home/sokol/workspace/competitions/Google-AI4Code/Google-AI4Code/notebooks/sketch/research-data-eda.ipynb Cell 33'\u001b[0m in \u001b[0;36m<module>\u001b[0;34m\u001b[0m\n\u001b[0;32m----> <a href='vscode-notebook-cell:/home/sokol/workspace/competitions/Google-AI4Code/Google-AI4Code/notebooks/sketch/research-data-eda.ipynb#ch0000041?line=0'>1</a>\u001b[0m notebooks_lang\u001b[39m.\u001b[39;49mvalue_counts()\u001b[39m.\u001b[39;49mdrop(labels\u001b[39m=\u001b[39;49m\u001b[39m\"\u001b[39;49m\u001b[39men\u001b[39;49m\u001b[39m\"\u001b[39;49m)\u001b[39m.\u001b[39mplot\u001b[39m.\u001b[39mbar()\n",
      "File \u001b[0;32m~/.local/lib/python3.8/site-packages/pandas/util/_decorators.py:311\u001b[0m, in \u001b[0;36mdeprecate_nonkeyword_arguments.<locals>.decorate.<locals>.wrapper\u001b[0;34m(*args, **kwargs)\u001b[0m\n\u001b[1;32m    305\u001b[0m \u001b[39mif\u001b[39;00m \u001b[39mlen\u001b[39m(args) \u001b[39m>\u001b[39m num_allow_args:\n\u001b[1;32m    306\u001b[0m     warnings\u001b[39m.\u001b[39mwarn(\n\u001b[1;32m    307\u001b[0m         msg\u001b[39m.\u001b[39mformat(arguments\u001b[39m=\u001b[39marguments),\n\u001b[1;32m    308\u001b[0m         \u001b[39mFutureWarning\u001b[39;00m,\n\u001b[1;32m    309\u001b[0m         stacklevel\u001b[39m=\u001b[39mstacklevel,\n\u001b[1;32m    310\u001b[0m     )\n\u001b[0;32m--> 311\u001b[0m \u001b[39mreturn\u001b[39;00m func(\u001b[39m*\u001b[39;49margs, \u001b[39m*\u001b[39;49m\u001b[39m*\u001b[39;49mkwargs)\n",
      "File \u001b[0;32m~/.local/lib/python3.8/site-packages/pandas/core/series.py:4768\u001b[0m, in \u001b[0;36mSeries.drop\u001b[0;34m(self, labels, axis, index, columns, level, inplace, errors)\u001b[0m\n\u001b[1;32m   4671\u001b[0m \u001b[39m@deprecate_nonkeyword_arguments\u001b[39m(version\u001b[39m=\u001b[39m\u001b[39mNone\u001b[39;00m, allowed_args\u001b[39m=\u001b[39m[\u001b[39m\"\u001b[39m\u001b[39mself\u001b[39m\u001b[39m\"\u001b[39m, \u001b[39m\"\u001b[39m\u001b[39mlabels\u001b[39m\u001b[39m\"\u001b[39m])\n\u001b[1;32m   4672\u001b[0m \u001b[39mdef\u001b[39;00m \u001b[39mdrop\u001b[39m(\n\u001b[1;32m   4673\u001b[0m     \u001b[39mself\u001b[39m,\n\u001b[0;32m   (...)\u001b[0m\n\u001b[1;32m   4680\u001b[0m     errors\u001b[39m=\u001b[39m\u001b[39m\"\u001b[39m\u001b[39mraise\u001b[39m\u001b[39m\"\u001b[39m,\n\u001b[1;32m   4681\u001b[0m ) \u001b[39m-\u001b[39m\u001b[39m>\u001b[39m Series:\n\u001b[1;32m   4682\u001b[0m     \u001b[39m\"\"\"\u001b[39;00m\n\u001b[1;32m   4683\u001b[0m \u001b[39m    Return Series with specified index labels removed.\u001b[39;00m\n\u001b[1;32m   4684\u001b[0m \n\u001b[0;32m   (...)\u001b[0m\n\u001b[1;32m   4766\u001b[0m \u001b[39m    dtype: float64\u001b[39;00m\n\u001b[1;32m   4767\u001b[0m \u001b[39m    \"\"\"\u001b[39;00m\n\u001b[0;32m-> 4768\u001b[0m     \u001b[39mreturn\u001b[39;00m \u001b[39msuper\u001b[39;49m()\u001b[39m.\u001b[39;49mdrop(\n\u001b[1;32m   4769\u001b[0m         labels\u001b[39m=\u001b[39;49mlabels,\n\u001b[1;32m   4770\u001b[0m         axis\u001b[39m=\u001b[39;49maxis,\n\u001b[1;32m   4771\u001b[0m         index\u001b[39m=\u001b[39;49mindex,\n\u001b[1;32m   4772\u001b[0m         columns\u001b[39m=\u001b[39;49mcolumns,\n\u001b[1;32m   4773\u001b[0m         level\u001b[39m=\u001b[39;49mlevel,\n\u001b[1;32m   4774\u001b[0m         inplace\u001b[39m=\u001b[39;49minplace,\n\u001b[1;32m   4775\u001b[0m         errors\u001b[39m=\u001b[39;49merrors,\n\u001b[1;32m   4776\u001b[0m     )\n",
      "File \u001b[0;32m~/.local/lib/python3.8/site-packages/pandas/core/generic.py:4279\u001b[0m, in \u001b[0;36mNDFrame.drop\u001b[0;34m(self, labels, axis, index, columns, level, inplace, errors)\u001b[0m\n\u001b[1;32m   4277\u001b[0m \u001b[39mfor\u001b[39;00m axis, labels \u001b[39min\u001b[39;00m axes\u001b[39m.\u001b[39mitems():\n\u001b[1;32m   4278\u001b[0m     \u001b[39mif\u001b[39;00m labels \u001b[39mis\u001b[39;00m \u001b[39mnot\u001b[39;00m \u001b[39mNone\u001b[39;00m:\n\u001b[0;32m-> 4279\u001b[0m         obj \u001b[39m=\u001b[39m obj\u001b[39m.\u001b[39;49m_drop_axis(labels, axis, level\u001b[39m=\u001b[39;49mlevel, errors\u001b[39m=\u001b[39;49merrors)\n\u001b[1;32m   4281\u001b[0m \u001b[39mif\u001b[39;00m inplace:\n\u001b[1;32m   4282\u001b[0m     \u001b[39mself\u001b[39m\u001b[39m.\u001b[39m_update_inplace(obj)\n",
      "File \u001b[0;32m~/.local/lib/python3.8/site-packages/pandas/core/generic.py:4323\u001b[0m, in \u001b[0;36mNDFrame._drop_axis\u001b[0;34m(self, labels, axis, level, errors, consolidate, only_slice)\u001b[0m\n\u001b[1;32m   4321\u001b[0m         new_axis \u001b[39m=\u001b[39m axis\u001b[39m.\u001b[39mdrop(labels, level\u001b[39m=\u001b[39mlevel, errors\u001b[39m=\u001b[39merrors)\n\u001b[1;32m   4322\u001b[0m     \u001b[39melse\u001b[39;00m:\n\u001b[0;32m-> 4323\u001b[0m         new_axis \u001b[39m=\u001b[39m axis\u001b[39m.\u001b[39;49mdrop(labels, errors\u001b[39m=\u001b[39;49merrors)\n\u001b[1;32m   4324\u001b[0m     indexer \u001b[39m=\u001b[39m axis\u001b[39m.\u001b[39mget_indexer(new_axis)\n\u001b[1;32m   4326\u001b[0m \u001b[39m# Case for non-unique axis\u001b[39;00m\n\u001b[1;32m   4327\u001b[0m \u001b[39melse\u001b[39;00m:\n",
      "File \u001b[0;32m~/.local/lib/python3.8/site-packages/pandas/core/indexes/multi.py:2236\u001b[0m, in \u001b[0;36mMultiIndex.drop\u001b[0;34m(self, codes, level, errors)\u001b[0m\n\u001b[1;32m   2234\u001b[0m \u001b[39mfor\u001b[39;00m level_codes \u001b[39min\u001b[39;00m codes:\n\u001b[1;32m   2235\u001b[0m     \u001b[39mtry\u001b[39;00m:\n\u001b[0;32m-> 2236\u001b[0m         loc \u001b[39m=\u001b[39m \u001b[39mself\u001b[39;49m\u001b[39m.\u001b[39;49mget_loc(level_codes)\n\u001b[1;32m   2237\u001b[0m         \u001b[39m# get_loc returns either an integer, a slice, or a boolean\u001b[39;00m\n\u001b[1;32m   2238\u001b[0m         \u001b[39m# mask\u001b[39;00m\n\u001b[1;32m   2239\u001b[0m         \u001b[39mif\u001b[39;00m \u001b[39misinstance\u001b[39m(loc, \u001b[39mint\u001b[39m):\n",
      "File \u001b[0;32m~/.local/lib/python3.8/site-packages/pandas/core/indexes/multi.py:2871\u001b[0m, in \u001b[0;36mMultiIndex.get_loc\u001b[0;34m(self, key, method)\u001b[0m\n\u001b[1;32m   2868\u001b[0m     \u001b[39mreturn\u001b[39;00m mask\n\u001b[1;32m   2870\u001b[0m \u001b[39mif\u001b[39;00m \u001b[39mnot\u001b[39;00m \u001b[39misinstance\u001b[39m(key, \u001b[39mtuple\u001b[39m):\n\u001b[0;32m-> 2871\u001b[0m     loc \u001b[39m=\u001b[39m \u001b[39mself\u001b[39;49m\u001b[39m.\u001b[39;49m_get_level_indexer(key, level\u001b[39m=\u001b[39;49m\u001b[39m0\u001b[39;49m)\n\u001b[1;32m   2872\u001b[0m     \u001b[39mreturn\u001b[39;00m _maybe_to_slice(loc)\n\u001b[1;32m   2874\u001b[0m keylen \u001b[39m=\u001b[39m \u001b[39mlen\u001b[39m(key)\n",
      "File \u001b[0;32m~/.local/lib/python3.8/site-packages/pandas/core/indexes/multi.py:3215\u001b[0m, in \u001b[0;36mMultiIndex._get_level_indexer\u001b[0;34m(self, key, level, indexer)\u001b[0m\n\u001b[1;32m   3211\u001b[0m         \u001b[39mreturn\u001b[39;00m \u001b[39mslice\u001b[39m(i, j, step)\n\u001b[1;32m   3213\u001b[0m \u001b[39melse\u001b[39;00m:\n\u001b[0;32m-> 3215\u001b[0m     idx \u001b[39m=\u001b[39m \u001b[39mself\u001b[39;49m\u001b[39m.\u001b[39;49m_get_loc_single_level_index(level_index, key)\n\u001b[1;32m   3217\u001b[0m     \u001b[39mif\u001b[39;00m level \u001b[39m>\u001b[39m \u001b[39m0\u001b[39m \u001b[39mor\u001b[39;00m \u001b[39mself\u001b[39m\u001b[39m.\u001b[39m_lexsort_depth \u001b[39m==\u001b[39m \u001b[39m0\u001b[39m:\n\u001b[1;32m   3218\u001b[0m         \u001b[39m# Desired level is not sorted\u001b[39;00m\n\u001b[1;32m   3219\u001b[0m         \u001b[39mif\u001b[39;00m \u001b[39misinstance\u001b[39m(idx, \u001b[39mslice\u001b[39m):\n\u001b[1;32m   3220\u001b[0m             \u001b[39m# test_get_loc_partial_timestamp_multiindex\u001b[39;00m\n",
      "File \u001b[0;32m~/.local/lib/python3.8/site-packages/pandas/core/indexes/multi.py:2804\u001b[0m, in \u001b[0;36mMultiIndex._get_loc_single_level_index\u001b[0;34m(self, level_index, key)\u001b[0m\n\u001b[1;32m   2802\u001b[0m     \u001b[39mreturn\u001b[39;00m \u001b[39m-\u001b[39m\u001b[39m1\u001b[39m\n\u001b[1;32m   2803\u001b[0m \u001b[39melse\u001b[39;00m:\n\u001b[0;32m-> 2804\u001b[0m     \u001b[39mreturn\u001b[39;00m level_index\u001b[39m.\u001b[39;49mget_loc(key)\n",
      "File \u001b[0;32m~/.local/lib/python3.8/site-packages/pandas/core/indexes/base.py:3623\u001b[0m, in \u001b[0;36mIndex.get_loc\u001b[0;34m(self, key, method, tolerance)\u001b[0m\n\u001b[1;32m   3621\u001b[0m     \u001b[39mreturn\u001b[39;00m \u001b[39mself\u001b[39m\u001b[39m.\u001b[39m_engine\u001b[39m.\u001b[39mget_loc(casted_key)\n\u001b[1;32m   3622\u001b[0m \u001b[39mexcept\u001b[39;00m \u001b[39mKeyError\u001b[39;00m \u001b[39mas\u001b[39;00m err:\n\u001b[0;32m-> 3623\u001b[0m     \u001b[39mraise\u001b[39;00m \u001b[39mKeyError\u001b[39;00m(key) \u001b[39mfrom\u001b[39;00m \u001b[39merr\u001b[39;00m\n\u001b[1;32m   3624\u001b[0m \u001b[39mexcept\u001b[39;00m \u001b[39mTypeError\u001b[39;00m:\n\u001b[1;32m   3625\u001b[0m     \u001b[39m# If we have a listlike key, _check_indexing_error will raise\u001b[39;00m\n\u001b[1;32m   3626\u001b[0m     \u001b[39m#  InvalidIndexError. Otherwise we fall through and re-raise\u001b[39;00m\n\u001b[1;32m   3627\u001b[0m     \u001b[39m#  the TypeError.\u001b[39;00m\n\u001b[1;32m   3628\u001b[0m     \u001b[39mself\u001b[39m\u001b[39m.\u001b[39m_check_indexing_error(key)\n",
      "\u001b[0;31mKeyError\u001b[0m: 'en'"
     ]
    }
   ],
   "source": [
    "notebooks_lang.value_counts()"
   ]
  },
  {
   "cell_type": "code",
   "execution_count": null,
   "id": "1f4bbafe",
   "metadata": {},
   "outputs": [
    {
     "data": {
      "text/html": [
       "<div>\n",
       "<style scoped>\n",
       "    .dataframe tbody tr th:only-of-type {\n",
       "        vertical-align: middle;\n",
       "    }\n",
       "\n",
       "    .dataframe tbody tr th {\n",
       "        vertical-align: top;\n",
       "    }\n",
       "\n",
       "    .dataframe thead th {\n",
       "        text-align: right;\n",
       "    }\n",
       "</style>\n",
       "<table border=\"1\" class=\"dataframe\">\n",
       "  <thead>\n",
       "    <tr style=\"text-align: right;\">\n",
       "      <th></th>\n",
       "      <th>notebook_id</th>\n",
       "      <th>notebook_lang</th>\n",
       "    </tr>\n",
       "  </thead>\n",
       "  <tbody>\n",
       "    <tr>\n",
       "      <th>103250</th>\n",
       "      <td>bdb959d13c0218</td>\n",
       "      <td>ky</td>\n",
       "    </tr>\n",
       "  </tbody>\n",
       "</table>\n",
       "</div>"
      ],
      "text/plain": [
       "           notebook_id notebook_lang\n",
       "103250  bdb959d13c0218            ky"
      ]
     },
     "execution_count": 23,
     "metadata": {},
     "output_type": "execute_result"
    }
   ],
   "source": [
    "notebooks_lang[notebooks_lang.notebook_lang == \"ky\"]"
   ]
  },
  {
   "cell_type": "code",
   "execution_count": null,
   "id": "4a0ad8ad",
   "metadata": {},
   "outputs": [
    {
     "data": {
      "text/plain": [
       "4728280    # **Кыргыз тилинде коронавирустун тарашы боюнч...\n",
       "4728281    import IPython\\nurl = \"https://flo.uri.sh/visu...\n",
       "4728282    import numpy as np\\nimport pandas as pd\\nimpor...\n",
       "4728283    cleaned_data = pd.read_csv('covid_19_data.csv'...\n",
       "4728284    \\nfig = px.line(grouped_china_date, x=\"Дата\", ...\n",
       "4728285    data['Облус'] = data['Облус'].fillna('')\\ntemp...\n",
       "4728286    cis = list(['Armenia','Azerbaijan','Belarus','...\n",
       "4728287    fig = px.bar(latest_grouped.sort_values('Ооруг...\n",
       "4728288    fig = px.bar(cis_grouped_latest.sort_values('О...\n",
       "4728289    fig = px.line(grouped, x=\"Дата\", y=\"Көз_жумган...\n",
       "4728290    fig = px.bar(latest_grouped.sort_values('Көз_ж...\n",
       "4728291    fig = px.bar(cis_grouped_latest.sort_values('К...\n",
       "4728292    fig = px.bar(latest_grouped.sort_values('Айыкк...\n",
       "4728293    fig = px.bar(cis_grouped_latest.sort_values('А...\n",
       "4728294    temp = cleaned_data.groupby('Дата')['Айыкканда...\n",
       "4728295    cleaned_latest = cleaned_data[cleaned_data['Да...\n",
       "4728296    flg['Айыккандардын_саны'] = round((flg['Айыкка...\n",
       "4728297    formated_gdf = data.groupby(['Дата', 'Мамлекет...\n",
       "Name: source, dtype: object"
      ]
     },
     "execution_count": 24,
     "metadata": {},
     "output_type": "execute_result"
    }
   ],
   "source": [
    "train[train.id == \"bdb959d13c0218\"].source"
   ]
  },
  {
   "cell_type": "markdown",
   "id": "8708075d",
   "metadata": {},
   "source": [
    "### Markdown cell analise"
   ]
  },
  {
   "cell_type": "code",
   "execution_count": null,
   "id": "d08b6488",
   "metadata": {},
   "outputs": [
    {
     "data": {
      "text/html": [
       "<div>\n",
       "<style scoped>\n",
       "    .dataframe tbody tr th:only-of-type {\n",
       "        vertical-align: middle;\n",
       "    }\n",
       "\n",
       "    .dataframe tbody tr th {\n",
       "        vertical-align: top;\n",
       "    }\n",
       "\n",
       "    .dataframe thead th {\n",
       "        text-align: right;\n",
       "    }\n",
       "</style>\n",
       "<table border=\"1\" class=\"dataframe\">\n",
       "  <thead>\n",
       "    <tr style=\"text-align: right;\">\n",
       "      <th>cell_type</th>\n",
       "      <th>code</th>\n",
       "      <th>markdown</th>\n",
       "      <th>total</th>\n",
       "    </tr>\n",
       "    <tr>\n",
       "      <th>id</th>\n",
       "      <th></th>\n",
       "      <th></th>\n",
       "      <th></th>\n",
       "    </tr>\n",
       "  </thead>\n",
       "  <tbody>\n",
       "    <tr>\n",
       "      <th>ba14b6fba142e9</th>\n",
       "      <td>468</td>\n",
       "      <td>537</td>\n",
       "      <td>1005</td>\n",
       "    </tr>\n",
       "    <tr>\n",
       "      <th>122446496468d9</th>\n",
       "      <td>305</td>\n",
       "      <td>459</td>\n",
       "      <td>764</td>\n",
       "    </tr>\n",
       "    <tr>\n",
       "      <th>4ddbb277c4060d</th>\n",
       "      <td>391</td>\n",
       "      <td>382</td>\n",
       "      <td>773</td>\n",
       "    </tr>\n",
       "    <tr>\n",
       "      <th>6f723767e67bd2</th>\n",
       "      <td>247</td>\n",
       "      <td>377</td>\n",
       "      <td>624</td>\n",
       "    </tr>\n",
       "    <tr>\n",
       "      <th>4678a086c5a524</th>\n",
       "      <td>492</td>\n",
       "      <td>368</td>\n",
       "      <td>860</td>\n",
       "    </tr>\n",
       "    <tr>\n",
       "      <th>...</th>\n",
       "      <td>...</td>\n",
       "      <td>...</td>\n",
       "      <td>...</td>\n",
       "    </tr>\n",
       "    <tr>\n",
       "      <th>31a8624adbabb8</th>\n",
       "      <td>16</td>\n",
       "      <td>1</td>\n",
       "      <td>17</td>\n",
       "    </tr>\n",
       "    <tr>\n",
       "      <th>7cad4668059663</th>\n",
       "      <td>11</td>\n",
       "      <td>1</td>\n",
       "      <td>12</td>\n",
       "    </tr>\n",
       "    <tr>\n",
       "      <th>e9dc4a0db40d9d</th>\n",
       "      <td>4</td>\n",
       "      <td>1</td>\n",
       "      <td>5</td>\n",
       "    </tr>\n",
       "    <tr>\n",
       "      <th>285013813145c8</th>\n",
       "      <td>2</td>\n",
       "      <td>1</td>\n",
       "      <td>3</td>\n",
       "    </tr>\n",
       "    <tr>\n",
       "      <th>16691313c49bc0</th>\n",
       "      <td>7</td>\n",
       "      <td>1</td>\n",
       "      <td>8</td>\n",
       "    </tr>\n",
       "  </tbody>\n",
       "</table>\n",
       "<p>139255 rows × 3 columns</p>\n",
       "</div>"
      ],
      "text/plain": [
       "cell_type       code  markdown  total\n",
       "id                                   \n",
       "ba14b6fba142e9   468       537   1005\n",
       "122446496468d9   305       459    764\n",
       "4ddbb277c4060d   391       382    773\n",
       "6f723767e67bd2   247       377    624\n",
       "4678a086c5a524   492       368    860\n",
       "...              ...       ...    ...\n",
       "31a8624adbabb8    16         1     17\n",
       "7cad4668059663    11         1     12\n",
       "e9dc4a0db40d9d     4         1      5\n",
       "285013813145c8     2         1      3\n",
       "16691313c49bc0     7         1      8\n",
       "\n",
       "[139255 rows x 3 columns]"
      ]
     },
     "execution_count": 25,
     "metadata": {},
     "output_type": "execute_result"
    }
   ],
   "source": [
    "counts_df.sort_values(['markdown'], ascending=False)"
   ]
  },
  {
   "cell_type": "code",
   "execution_count": null,
   "id": "c9337f66",
   "metadata": {},
   "outputs": [
    {
     "name": "stderr",
     "output_type": "stream",
     "text": [
      "  0%|          | 0/30 [00:00<?, ?it/s]/tmp/ipykernel_15457/959808197.py:5: UserWarning: Boolean Series key will be reindexed to match DataFrame index.\n",
      "  max_markdown_cells_df = max_markdown_cells_df[train.cell_type == 'markdown']\n",
      "100%|██████████| 30/30 [00:09<00:00,  3.19it/s]\n"
     ]
    }
   ],
   "source": [
    "TOP_N = 30\n",
    "\n",
    "def save_markdowns(notebook_id):\n",
    "    max_markdown_cells_df = train[train.id == notebook_id]\n",
    "    max_markdown_cells_df = max_markdown_cells_df[train.cell_type == 'markdown']\n",
    "    max_markdown_cells_df.source.to_csv(os.path.join(PROCESSING_DATA_PATH, 'markdowns', notebook_id + '.csv'), index=False)\n",
    "\n",
    "for id in tqdm(counts_df.sort_values(['markdown'], ascending=False).index[:TOP_N]):\n",
    "    save_markdowns(id)\n",
    "#max_markdown_cells_df = train[train.id == counts_df.markdown.idxmax()]\n",
    "#max_markdown_cells_df = max_markdown_cells_df[train.cell_type == 'markdown'].sort_values(['markdown'])\n",
    "#max_markdown_cells_df"
   ]
  },
  {
   "cell_type": "code",
   "execution_count": null,
   "id": "cc7b068c",
   "metadata": {},
   "outputs": [],
   "source": [
    "#max_markdown_cells_df.source.to_csv(os.path.join(PROCESSING_DATA_PATH, 'md_temp.csv'), index=False)"
   ]
  },
  {
   "cell_type": "code",
   "execution_count": null,
   "id": "d4289347",
   "metadata": {},
   "outputs": [
    {
     "ename": "",
     "evalue": "",
     "output_type": "error",
     "traceback": [
      "\u001b[1;31mThe Kernel crashed while executing code in the the current cell or a previous cell. Please review the code in the cell(s) to identify a possible cause of the failure. Click <a href='https://aka.ms/vscodeJupyterKernelCrash'>here</a> for more info. View Jupyter <a href='command:jupyter.viewOutput'>log</a> for further details."
     ]
    },
    {
     "ename": "",
     "evalue": "",
     "output_type": "error",
     "traceback": [
      "\u001b[1;31mCanceled future for execute_request message before replies were done"
     ]
    }
   ],
   "source": [
    "cleaned_df = pd.read_parquet(\"../../data/clean/train_all_cleaned.parquet\")\n",
    "cleaned_df"
   ]
  },
  {
   "cell_type": "code",
   "execution_count": null,
   "id": "bb0e7383",
   "metadata": {},
   "outputs": [
    {
     "ename": "OSError",
     "evalue": "Cannot save file into a non-existent directory: '../../clean'",
     "output_type": "error",
     "traceback": [
      "\u001b[0;31m---------------------------------------------------------------------------\u001b[0m",
      "\u001b[0;31mOSError\u001b[0m                                   Traceback (most recent call last)",
      "\u001b[1;32m/home/sokol/workspace/competitions/Google-AI4Code/Google-AI4Code/notebooks/sketch/research-data-eda.ipynb Cell 40'\u001b[0m in \u001b[0;36m<module>\u001b[0;34m\u001b[0m\n\u001b[0;32m----> <a href='vscode-notebook-cell:/home/sokol/workspace/competitions/Google-AI4Code/Google-AI4Code/notebooks/sketch/research-data-eda.ipynb#ch0000039?line=0'>1</a>\u001b[0m cleaned_df[cleaned_df\u001b[39m.\u001b[39;49mcell_type \u001b[39m==\u001b[39;49m \u001b[39m\"\u001b[39;49m\u001b[39mmarkdown\u001b[39;49m\u001b[39m\"\u001b[39;49m]\u001b[39m.\u001b[39;49msource\u001b[39m.\u001b[39;49mto_csv(\u001b[39m'\u001b[39;49m\u001b[39m../../clean/markdown_cell.csv\u001b[39;49m\u001b[39m'\u001b[39;49m)\n",
      "File \u001b[0;32m~/.local/lib/python3.8/site-packages/pandas/core/generic.py:3563\u001b[0m, in \u001b[0;36mNDFrame.to_csv\u001b[0;34m(self, path_or_buf, sep, na_rep, float_format, columns, header, index, index_label, mode, encoding, compression, quoting, quotechar, line_terminator, chunksize, date_format, doublequote, escapechar, decimal, errors, storage_options)\u001b[0m\n\u001b[1;32m   3552\u001b[0m df \u001b[39m=\u001b[39m \u001b[39mself\u001b[39m \u001b[39mif\u001b[39;00m \u001b[39misinstance\u001b[39m(\u001b[39mself\u001b[39m, ABCDataFrame) \u001b[39melse\u001b[39;00m \u001b[39mself\u001b[39m\u001b[39m.\u001b[39mto_frame()\n\u001b[1;32m   3554\u001b[0m formatter \u001b[39m=\u001b[39m DataFrameFormatter(\n\u001b[1;32m   3555\u001b[0m     frame\u001b[39m=\u001b[39mdf,\n\u001b[1;32m   3556\u001b[0m     header\u001b[39m=\u001b[39mheader,\n\u001b[0;32m   (...)\u001b[0m\n\u001b[1;32m   3560\u001b[0m     decimal\u001b[39m=\u001b[39mdecimal,\n\u001b[1;32m   3561\u001b[0m )\n\u001b[0;32m-> 3563\u001b[0m \u001b[39mreturn\u001b[39;00m DataFrameRenderer(formatter)\u001b[39m.\u001b[39;49mto_csv(\n\u001b[1;32m   3564\u001b[0m     path_or_buf,\n\u001b[1;32m   3565\u001b[0m     line_terminator\u001b[39m=\u001b[39;49mline_terminator,\n\u001b[1;32m   3566\u001b[0m     sep\u001b[39m=\u001b[39;49msep,\n\u001b[1;32m   3567\u001b[0m     encoding\u001b[39m=\u001b[39;49mencoding,\n\u001b[1;32m   3568\u001b[0m     errors\u001b[39m=\u001b[39;49merrors,\n\u001b[1;32m   3569\u001b[0m     compression\u001b[39m=\u001b[39;49mcompression,\n\u001b[1;32m   3570\u001b[0m     quoting\u001b[39m=\u001b[39;49mquoting,\n\u001b[1;32m   3571\u001b[0m     columns\u001b[39m=\u001b[39;49mcolumns,\n\u001b[1;32m   3572\u001b[0m     index_label\u001b[39m=\u001b[39;49mindex_label,\n\u001b[1;32m   3573\u001b[0m     mode\u001b[39m=\u001b[39;49mmode,\n\u001b[1;32m   3574\u001b[0m     chunksize\u001b[39m=\u001b[39;49mchunksize,\n\u001b[1;32m   3575\u001b[0m     quotechar\u001b[39m=\u001b[39;49mquotechar,\n\u001b[1;32m   3576\u001b[0m     date_format\u001b[39m=\u001b[39;49mdate_format,\n\u001b[1;32m   3577\u001b[0m     doublequote\u001b[39m=\u001b[39;49mdoublequote,\n\u001b[1;32m   3578\u001b[0m     escapechar\u001b[39m=\u001b[39;49mescapechar,\n\u001b[1;32m   3579\u001b[0m     storage_options\u001b[39m=\u001b[39;49mstorage_options,\n\u001b[1;32m   3580\u001b[0m )\n",
      "File \u001b[0;32m~/.local/lib/python3.8/site-packages/pandas/io/formats/format.py:1180\u001b[0m, in \u001b[0;36mDataFrameRenderer.to_csv\u001b[0;34m(self, path_or_buf, encoding, sep, columns, index_label, mode, compression, quoting, quotechar, line_terminator, chunksize, date_format, doublequote, escapechar, errors, storage_options)\u001b[0m\n\u001b[1;32m   1159\u001b[0m     created_buffer \u001b[39m=\u001b[39m \u001b[39mFalse\u001b[39;00m\n\u001b[1;32m   1161\u001b[0m csv_formatter \u001b[39m=\u001b[39m CSVFormatter(\n\u001b[1;32m   1162\u001b[0m     path_or_buf\u001b[39m=\u001b[39mpath_or_buf,\n\u001b[1;32m   1163\u001b[0m     line_terminator\u001b[39m=\u001b[39mline_terminator,\n\u001b[0;32m   (...)\u001b[0m\n\u001b[1;32m   1178\u001b[0m     formatter\u001b[39m=\u001b[39m\u001b[39mself\u001b[39m\u001b[39m.\u001b[39mfmt,\n\u001b[1;32m   1179\u001b[0m )\n\u001b[0;32m-> 1180\u001b[0m csv_formatter\u001b[39m.\u001b[39;49msave()\n\u001b[1;32m   1182\u001b[0m \u001b[39mif\u001b[39;00m created_buffer:\n\u001b[1;32m   1183\u001b[0m     \u001b[39massert\u001b[39;00m \u001b[39misinstance\u001b[39m(path_or_buf, StringIO)\n",
      "File \u001b[0;32m~/.local/lib/python3.8/site-packages/pandas/io/formats/csvs.py:241\u001b[0m, in \u001b[0;36mCSVFormatter.save\u001b[0;34m(self)\u001b[0m\n\u001b[1;32m    237\u001b[0m \u001b[39m\"\"\"\u001b[39;00m\n\u001b[1;32m    238\u001b[0m \u001b[39mCreate the writer & save.\u001b[39;00m\n\u001b[1;32m    239\u001b[0m \u001b[39m\"\"\"\u001b[39;00m\n\u001b[1;32m    240\u001b[0m \u001b[39m# apply compression and byte/text conversion\u001b[39;00m\n\u001b[0;32m--> 241\u001b[0m \u001b[39mwith\u001b[39;00m get_handle(\n\u001b[1;32m    242\u001b[0m     \u001b[39mself\u001b[39;49m\u001b[39m.\u001b[39;49mfilepath_or_buffer,\n\u001b[1;32m    243\u001b[0m     \u001b[39mself\u001b[39;49m\u001b[39m.\u001b[39;49mmode,\n\u001b[1;32m    244\u001b[0m     encoding\u001b[39m=\u001b[39;49m\u001b[39mself\u001b[39;49m\u001b[39m.\u001b[39;49mencoding,\n\u001b[1;32m    245\u001b[0m     errors\u001b[39m=\u001b[39;49m\u001b[39mself\u001b[39;49m\u001b[39m.\u001b[39;49merrors,\n\u001b[1;32m    246\u001b[0m     compression\u001b[39m=\u001b[39;49m\u001b[39mself\u001b[39;49m\u001b[39m.\u001b[39;49mcompression,\n\u001b[1;32m    247\u001b[0m     storage_options\u001b[39m=\u001b[39;49m\u001b[39mself\u001b[39;49m\u001b[39m.\u001b[39;49mstorage_options,\n\u001b[1;32m    248\u001b[0m ) \u001b[39mas\u001b[39;00m handles:\n\u001b[1;32m    249\u001b[0m \n\u001b[1;32m    250\u001b[0m     \u001b[39m# Note: self.encoding is irrelevant here\u001b[39;00m\n\u001b[1;32m    251\u001b[0m     \u001b[39mself\u001b[39m\u001b[39m.\u001b[39mwriter \u001b[39m=\u001b[39m csvlib\u001b[39m.\u001b[39mwriter(\n\u001b[1;32m    252\u001b[0m         handles\u001b[39m.\u001b[39mhandle,\n\u001b[1;32m    253\u001b[0m         lineterminator\u001b[39m=\u001b[39m\u001b[39mself\u001b[39m\u001b[39m.\u001b[39mline_terminator,\n\u001b[0;32m   (...)\u001b[0m\n\u001b[1;32m    258\u001b[0m         quotechar\u001b[39m=\u001b[39m\u001b[39mself\u001b[39m\u001b[39m.\u001b[39mquotechar,\n\u001b[1;32m    259\u001b[0m     )\n\u001b[1;32m    261\u001b[0m     \u001b[39mself\u001b[39m\u001b[39m.\u001b[39m_save()\n",
      "File \u001b[0;32m~/.local/lib/python3.8/site-packages/pandas/io/common.py:697\u001b[0m, in \u001b[0;36mget_handle\u001b[0;34m(path_or_buf, mode, encoding, compression, memory_map, is_text, errors, storage_options)\u001b[0m\n\u001b[1;32m    695\u001b[0m \u001b[39m# Only for write methods\u001b[39;00m\n\u001b[1;32m    696\u001b[0m \u001b[39mif\u001b[39;00m \u001b[39m\"\u001b[39m\u001b[39mr\u001b[39m\u001b[39m\"\u001b[39m \u001b[39mnot\u001b[39;00m \u001b[39min\u001b[39;00m mode \u001b[39mand\u001b[39;00m is_path:\n\u001b[0;32m--> 697\u001b[0m     check_parent_directory(\u001b[39mstr\u001b[39;49m(handle))\n\u001b[1;32m    699\u001b[0m \u001b[39mif\u001b[39;00m compression:\n\u001b[1;32m    700\u001b[0m     \u001b[39mif\u001b[39;00m compression \u001b[39m!=\u001b[39m \u001b[39m\"\u001b[39m\u001b[39mzstd\u001b[39m\u001b[39m\"\u001b[39m:\n\u001b[1;32m    701\u001b[0m         \u001b[39m# compression libraries do not like an explicit text-mode\u001b[39;00m\n",
      "File \u001b[0;32m~/.local/lib/python3.8/site-packages/pandas/io/common.py:571\u001b[0m, in \u001b[0;36mcheck_parent_directory\u001b[0;34m(path)\u001b[0m\n\u001b[1;32m    569\u001b[0m parent \u001b[39m=\u001b[39m Path(path)\u001b[39m.\u001b[39mparent\n\u001b[1;32m    570\u001b[0m \u001b[39mif\u001b[39;00m \u001b[39mnot\u001b[39;00m parent\u001b[39m.\u001b[39mis_dir():\n\u001b[0;32m--> 571\u001b[0m     \u001b[39mraise\u001b[39;00m \u001b[39mOSError\u001b[39;00m(\u001b[39mfr\u001b[39m\u001b[39m\"\u001b[39m\u001b[39mCannot save file into a non-existent directory: \u001b[39m\u001b[39m'\u001b[39m\u001b[39m{\u001b[39;00mparent\u001b[39m}\u001b[39;00m\u001b[39m'\u001b[39m\u001b[39m\"\u001b[39m)\n",
      "\u001b[0;31mOSError\u001b[0m: Cannot save file into a non-existent directory: '../../clean'"
     ]
    }
   ],
   "source": [
    " cleaned_df[cleaned_df.cell_type == \"markdown\"].source.to_csv('../../data/clean/markdown_cell.csv')"
   ]
  },
  {
   "cell_type": "code",
   "execution_count": null,
   "id": "470fa2fd",
   "metadata": {},
   "outputs": [],
   "source": []
  }
 ],
 "metadata": {
  "interpreter": {
   "hash": "916dbcbb3f70747c44a77c7bcd40155683ae19c65e1c03b4aa3499c5328201f1"
  },
  "kernelspec": {
   "display_name": "Python 3.8.10 64-bit",
   "language": "python",
   "name": "python3"
  },
  "language_info": {
   "codemirror_mode": {
    "name": "ipython",
    "version": 3
   },
   "file_extension": ".py",
   "mimetype": "text/x-python",
   "name": "python",
   "nbconvert_exporter": "python",
   "pygments_lexer": "ipython3",
   "version": "3.8.10"
  },
  "papermill": {
   "default_parameters": {},
   "duration": 59.931532,
   "end_time": "2022-05-17T13:47:08.490799",
   "environment_variables": {},
   "exception": null,
   "input_path": "__notebook__.ipynb",
   "output_path": "__notebook__.ipynb",
   "parameters": {},
   "start_time": "2022-05-17T13:46:08.559267",
   "version": "2.3.4"
  }
 },
 "nbformat": 4,
 "nbformat_minor": 5
}
